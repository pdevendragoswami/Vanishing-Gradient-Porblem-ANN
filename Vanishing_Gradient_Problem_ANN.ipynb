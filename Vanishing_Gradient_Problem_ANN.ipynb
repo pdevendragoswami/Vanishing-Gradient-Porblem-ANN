{
  "nbformat": 4,
  "nbformat_minor": 0,
  "metadata": {
    "colab": {
      "provenance": [],
      "gpuType": "T4"
    },
    "kernelspec": {
      "name": "python3",
      "display_name": "Python 3"
    },
    "language_info": {
      "name": "python"
    },
    "accelerator": "GPU"
  },
  "cells": [
    {
      "cell_type": "code",
      "execution_count": 1,
      "metadata": {
        "id": "jnd47umP6tlp"
      },
      "outputs": [],
      "source": [
        "import numpy as np\n",
        "import pandas as pd\n",
        "import tensorflow as tf\n",
        "import matplotlib.pyplot as plt\n",
        "import seaborn as sns\n",
        "from sklearn.datasets import make_moons\n",
        "from sklearn.model_selection import train_test_split\n",
        "from sklearn.preprocessing import StandardScaler"
      ]
    },
    {
      "cell_type": "code",
      "source": [
        "X,y = make_moons(n_samples=250, noise = 0.05, random_state=42)"
      ],
      "metadata": {
        "id": "WF24-O667EAQ"
      },
      "execution_count": 2,
      "outputs": []
    },
    {
      "cell_type": "code",
      "source": [
        "X.shape"
      ],
      "metadata": {
        "colab": {
          "base_uri": "https://localhost:8080/"
        },
        "id": "ZPhXOn7k7RbE",
        "outputId": "561df4ca-ca4e-4091-ee61-5b645acdfbcd"
      },
      "execution_count": 3,
      "outputs": [
        {
          "output_type": "execute_result",
          "data": {
            "text/plain": [
              "(250, 2)"
            ]
          },
          "metadata": {},
          "execution_count": 3
        }
      ]
    },
    {
      "cell_type": "code",
      "source": [
        "y.shape"
      ],
      "metadata": {
        "colab": {
          "base_uri": "https://localhost:8080/"
        },
        "id": "BUKTPlYR7Vgx",
        "outputId": "7664723a-2d43-4c53-f10e-61b03443de37"
      },
      "execution_count": 4,
      "outputs": [
        {
          "output_type": "execute_result",
          "data": {
            "text/plain": [
              "(250,)"
            ]
          },
          "metadata": {},
          "execution_count": 4
        }
      ]
    },
    {
      "cell_type": "code",
      "source": [
        "X"
      ],
      "metadata": {
        "colab": {
          "base_uri": "https://localhost:8080/"
        },
        "id": "eRpmuCgF7ZWa",
        "outputId": "4f8e9a54-2dd8-4ac8-a309-0a662339d263"
      },
      "execution_count": 5,
      "outputs": [
        {
          "output_type": "execute_result",
          "data": {
            "text/plain": [
              "array([[ 8.41540974e-02,  1.13341197e-01],\n",
              "       [ 1.05091536e+00,  1.54710235e-01],\n",
              "       [-7.16555269e-01,  6.75607887e-01],\n",
              "       [ 6.09316755e-02,  9.26542340e-01],\n",
              "       [-1.00552480e+00,  3.36425155e-01],\n",
              "       [ 7.63045744e-01, -4.82519400e-01],\n",
              "       [ 1.30067681e+00, -4.60456076e-01],\n",
              "       [ 8.93997023e-01, -5.39443631e-01],\n",
              "       [ 1.01492378e+00,  2.49633435e-01],\n",
              "       [-8.88621081e-01,  5.38566586e-01],\n",
              "       [ 1.36613788e+00, -3.56819676e-01],\n",
              "       [ 1.69872955e+00, -2.50238607e-01],\n",
              "       [ 1.93909982e+00,  7.98335031e-02],\n",
              "       [ 1.98164910e+00,  2.73166182e-01],\n",
              "       [-1.92842298e-01,  9.90722796e-01],\n",
              "       [ 1.87318667e+00, -1.28604429e-01],\n",
              "       [ 1.12842503e+00, -4.29068613e-01],\n",
              "       [ 9.60365014e-01,  5.24004362e-01],\n",
              "       [ 6.83418960e-01, -4.32057757e-01],\n",
              "       [ 8.36557987e-01,  5.74232279e-01],\n",
              "       [ 2.04424212e+00,  4.47864563e-01],\n",
              "       [ 7.89541222e-01,  4.20628768e-01],\n",
              "       [-8.99855447e-01,  3.09253977e-01],\n",
              "       [-1.70083737e-01,  1.01364818e+00],\n",
              "       [ 8.64100790e-01, -4.62976070e-01],\n",
              "       [ 4.16929826e-01,  9.18202726e-01],\n",
              "       [ 2.06768552e-01,  9.66869965e-01],\n",
              "       [ 9.98383587e-01,  1.53441053e-01],\n",
              "       [ 7.41612725e-01,  6.91498410e-01],\n",
              "       [-1.00574217e+00,  7.74054546e-02],\n",
              "       [ 1.31683658e+00, -4.78428187e-01],\n",
              "       [ 5.54481432e-01,  7.28612668e-01],\n",
              "       [ 1.35858678e-01,  8.88735937e-02],\n",
              "       [ 1.75654841e+00, -2.42976963e-01],\n",
              "       [ 7.40743386e-01,  5.54338955e-01],\n",
              "       [-9.97524363e-01,  2.64286007e-01],\n",
              "       [ 9.20293241e-01,  5.29340369e-01],\n",
              "       [ 1.19270090e+00, -5.58707061e-01],\n",
              "       [ 8.56420100e-01, -5.56110065e-01],\n",
              "       [ 2.89464236e-01, -2.34008340e-01],\n",
              "       [-9.96733805e-01,  1.17069019e-01],\n",
              "       [-7.55340560e-01,  6.30902041e-01],\n",
              "       [-8.24480429e-01,  3.60565618e-01],\n",
              "       [ 9.03680204e-01, -5.21468166e-01],\n",
              "       [ 1.75437757e+00, -1.02159856e-01],\n",
              "       [ 8.19380922e-01,  4.15657148e-01],\n",
              "       [ 1.11163727e-01,  3.15453600e-02],\n",
              "       [-1.78801952e-01,  1.01024975e+00],\n",
              "       [ 6.33124657e-01, -4.15851002e-01],\n",
              "       [ 6.54456705e-01,  7.83801620e-01],\n",
              "       [ 1.03252524e-02,  2.99269369e-01],\n",
              "       [ 1.90041253e+00, -9.29652950e-02],\n",
              "       [ 1.92478212e+00,  1.95990042e-01],\n",
              "       [-9.98773046e-01,  8.66633440e-02],\n",
              "       [ 2.01607705e-02,  2.32763980e-01],\n",
              "       [-1.06941992e-01,  1.03645475e+00],\n",
              "       [ 1.67299917e+00, -2.35023613e-01],\n",
              "       [ 2.71539502e-01, -5.81445137e-02],\n",
              "       [ 4.97623260e-01, -2.90178812e-01],\n",
              "       [ 1.81516796e+00,  2.61465591e-02],\n",
              "       [ 1.90198850e+00,  6.48805981e-02],\n",
              "       [ 3.27847838e-01, -1.77111950e-01],\n",
              "       [-1.00837743e+00,  7.17300661e-02],\n",
              "       [-5.49966384e-01,  8.55604463e-01],\n",
              "       [ 9.06805597e-05,  5.37796764e-01],\n",
              "       [ 6.11375169e-01, -3.53652874e-01],\n",
              "       [ 2.02325774e+00,  4.06240765e-01],\n",
              "       [-8.70031210e-01,  3.97519601e-01],\n",
              "       [ 6.66505683e-01, -3.38205158e-01],\n",
              "       [ 1.94000221e+00,  1.15502286e-01],\n",
              "       [-2.52781645e-01,  1.01822885e+00],\n",
              "       [ 3.54686494e-01, -1.88981657e-01],\n",
              "       [-1.00756489e+00,  1.82643859e-01],\n",
              "       [-3.50689868e-01,  8.82880254e-01],\n",
              "       [ 1.95965424e+00,  1.79135608e-01],\n",
              "       [-4.23791395e-01,  8.09785398e-01],\n",
              "       [ 8.19759719e-01,  6.21324827e-01],\n",
              "       [-6.15906179e-02,  4.33434719e-01],\n",
              "       [-3.19944988e-01,  9.06668534e-01],\n",
              "       [-5.44796440e-01,  8.11568854e-01],\n",
              "       [ 9.87483245e-01,  1.01044592e-01],\n",
              "       [ 1.53964975e-01,  1.01319832e+00],\n",
              "       [ 1.05858256e+00, -5.93402519e-01],\n",
              "       [ 1.97834556e+00,  8.60038698e-02],\n",
              "       [ 5.64102869e-01, -4.36058965e-01],\n",
              "       [-2.37493320e-02,  1.00856184e+00],\n",
              "       [-5.35625551e-03,  1.47203879e-01],\n",
              "       [-9.42781423e-01,  4.28932329e-02],\n",
              "       [ 1.58076309e+00, -3.57876102e-01],\n",
              "       [ 1.48729531e-01,  1.12406541e-01],\n",
              "       [ 6.29856834e-01,  6.64970026e-01],\n",
              "       [ 9.73741351e-01,  2.93136861e-01],\n",
              "       [ 6.21931794e-01,  8.76251701e-01],\n",
              "       [ 7.16095126e-01,  6.50658455e-01],\n",
              "       [ 4.95397335e-01,  8.34109782e-01],\n",
              "       [ 1.63507414e+00, -1.93640898e-01],\n",
              "       [ 9.39327586e-01,  5.49193155e-01],\n",
              "       [-7.02603152e-01,  7.11243303e-01],\n",
              "       [ 1.57895616e+00, -2.46854147e-01],\n",
              "       [-8.60243926e-01,  4.82453441e-01],\n",
              "       [ 1.96013416e-01,  9.65367181e-01],\n",
              "       [-6.88978962e-01,  6.82259107e-01],\n",
              "       [ 8.63270212e-02,  8.25279133e-02],\n",
              "       [ 1.30867374e+00, -4.12829733e-01],\n",
              "       [-2.80980058e-01,  8.90032626e-01],\n",
              "       [ 3.90315962e-01,  8.44195161e-01],\n",
              "       [-1.01238380e+00,  3.16694022e-01],\n",
              "       [ 1.88767659e-01, -2.25730970e-01],\n",
              "       [-4.23065928e-01,  8.44359095e-01],\n",
              "       [ 2.30863628e-01, -5.38191260e-03],\n",
              "       [ 8.23153642e-01,  6.38907309e-01],\n",
              "       [ 2.02153850e+00,  3.55368581e-01],\n",
              "       [ 4.22720017e-01, -4.05969894e-01],\n",
              "       [ 1.94612164e+00,  3.46309741e-01],\n",
              "       [-8.23563555e-02,  2.57773171e-01],\n",
              "       [ 9.05162639e-01,  2.99546663e-02],\n",
              "       [ 9.90312968e-01,  6.49079351e-02],\n",
              "       [-3.94545588e-01,  9.39513323e-01],\n",
              "       [ 3.70761979e-01,  8.91148754e-01],\n",
              "       [-8.65625258e-01,  6.47559713e-01],\n",
              "       [ 1.96289637e-02,  4.59825674e-01],\n",
              "       [ 1.50193647e-01, -1.03619463e-01],\n",
              "       [ 1.95031761e+00,  4.50109109e-01],\n",
              "       [-7.11828602e-01,  8.38215329e-01],\n",
              "       [-5.88138020e-01,  7.91217871e-01],\n",
              "       [ 6.34356363e-01, -4.92699529e-01],\n",
              "       [ 1.17655385e+00, -4.82003919e-01],\n",
              "       [-8.23041847e-01,  5.32075432e-01],\n",
              "       [ 5.36377240e-01,  8.24758720e-01],\n",
              "       [ 1.91932769e-02,  1.03212374e+00],\n",
              "       [ 4.47136711e-01, -2.98474265e-01],\n",
              "       [ 6.61329477e-04,  1.62173993e-01],\n",
              "       [ 1.03139656e+00,  2.52724712e-01],\n",
              "       [ 2.00901794e+00,  3.72972507e-01],\n",
              "       [ 1.34371500e+00, -4.95306035e-01],\n",
              "       [ 8.32692245e-01,  6.13191507e-01],\n",
              "       [ 2.40499915e-01, -1.83473915e-01],\n",
              "       [ 1.01199217e+00,  1.96744802e-01],\n",
              "       [-9.82739628e-01,  6.03130719e-02],\n",
              "       [ 7.68774066e-01,  7.54845484e-01],\n",
              "       [ 8.14262083e-02,  1.04801875e-01],\n",
              "       [ 7.36970991e-01, -5.06578512e-01],\n",
              "       [ 1.13245960e-02,  1.29749761e-01],\n",
              "       [ 1.66586647e-02,  9.87104892e-01],\n",
              "       [-1.41985580e-01,  2.35934315e-01],\n",
              "       [-2.30085262e-02,  4.68708154e-01],\n",
              "       [ 1.80680888e+00,  7.66701743e-02],\n",
              "       [ 1.51023383e+00, -4.17300059e-01],\n",
              "       [-1.43817366e-01,  1.00579053e+00],\n",
              "       [ 1.13801188e+00, -4.51854564e-01],\n",
              "       [-4.79456251e-02,  1.01073406e+00],\n",
              "       [ 4.81561777e-01,  1.00042718e+00],\n",
              "       [ 4.83595738e-01, -3.71334091e-01],\n",
              "       [ 4.27502468e-01,  9.46709431e-01],\n",
              "       [-1.01284116e+00,  5.20731788e-02],\n",
              "       [ 3.36537239e-01, -1.39992367e-01],\n",
              "       [ 8.25238299e-01,  6.21276364e-01],\n",
              "       [ 1.59430507e+00, -2.91458161e-01],\n",
              "       [ 8.22673634e-01, -4.34573563e-01],\n",
              "       [-4.44217241e-01,  8.17780564e-01],\n",
              "       [ 5.74547421e-01,  7.31845529e-01],\n",
              "       [ 1.64606277e+00, -4.03736997e-01],\n",
              "       [ 4.51539239e-01,  8.88005222e-01],\n",
              "       [-6.96781502e-01,  6.43360506e-01],\n",
              "       [ 1.12578888e+00, -5.08878851e-01],\n",
              "       [ 4.11282995e-01, -2.90022518e-01],\n",
              "       [ 3.94713405e-01,  9.11565376e-01],\n",
              "       [ 1.00491510e-01,  6.69636771e-02],\n",
              "       [ 8.61868415e-01, -4.95825373e-01],\n",
              "       [ 1.08125924e+00,  1.95014954e-01],\n",
              "       [-8.47058335e-01,  4.48639639e-01],\n",
              "       [ 2.07315004e-01,  9.33182299e-01],\n",
              "       [-1.07918504e-02,  2.85020993e-01],\n",
              "       [ 1.94685691e+00, -3.88250939e-02],\n",
              "       [ 1.09012513e+00, -4.86385061e-01],\n",
              "       [ 1.91757921e+00,  8.42727807e-02],\n",
              "       [ 3.63422548e-01,  9.49699645e-01],\n",
              "       [ 4.67168160e-01, -3.59780609e-01],\n",
              "       [-3.51357680e-01,  9.10428529e-01],\n",
              "       [ 6.71383431e-01,  7.19532528e-01],\n",
              "       [ 1.48658799e+00, -3.53806780e-01],\n",
              "       [ 9.25826602e-01,  9.34651868e-02],\n",
              "       [ 6.20327446e-01, -4.43396303e-01],\n",
              "       [-9.24756059e-01,  2.82753449e-01],\n",
              "       [-7.48410140e-01,  7.52348059e-01],\n",
              "       [-5.24784978e-01,  7.56237025e-01],\n",
              "       [ 1.85793068e+00, -1.77488836e-01],\n",
              "       [ 1.99043825e+00, -3.84966266e-02],\n",
              "       [-6.11864010e-01,  8.57363102e-01],\n",
              "       [ 1.05350164e+00,  3.00605340e-01],\n",
              "       [ 8.70095557e-01,  2.66644712e-01],\n",
              "       [ 8.72329779e-02,  1.03910029e+00],\n",
              "       [ 1.65081111e+00, -3.40657824e-01],\n",
              "       [ 3.63605836e-02,  3.38859653e-01],\n",
              "       [ 8.98360843e-01,  3.03611471e-01],\n",
              "       [ 5.32578420e-01, -3.54511798e-01],\n",
              "       [-1.60894304e-01,  9.64351737e-01],\n",
              "       [ 1.77033059e+00, -1.28793935e-01],\n",
              "       [-6.14242259e-02,  4.04786927e-01],\n",
              "       [ 1.39596937e+00, -3.83944461e-01],\n",
              "       [ 1.91838913e+00, -3.73585050e-03],\n",
              "       [ 6.70163023e-02,  1.01297684e+00],\n",
              "       [ 1.90624888e-01,  9.86455339e-01],\n",
              "       [-8.70460181e-01,  4.18048901e-01],\n",
              "       [ 3.43459618e-01,  8.69895649e-01],\n",
              "       [ 1.93067862e+00,  1.42407452e-01],\n",
              "       [ 7.76412421e-01, -3.47049763e-01],\n",
              "       [ 1.53862659e+00, -4.12402904e-01],\n",
              "       [ 1.17014308e+00, -5.28937231e-01],\n",
              "       [ 1.98645256e+00,  4.32043556e-01],\n",
              "       [ 1.50787776e+00, -3.42156486e-01],\n",
              "       [ 1.79295620e+00, -1.58598687e-01],\n",
              "       [ 5.93010896e-01, -4.07264923e-01],\n",
              "       [ 1.30133494e-01,  1.01973391e+00],\n",
              "       [ 3.85447617e-01,  9.69650467e-01],\n",
              "       [-6.34227601e-01,  8.13711246e-01],\n",
              "       [ 8.94441988e-01,  4.42739571e-01],\n",
              "       [ 1.12636377e-01,  1.02239287e+00],\n",
              "       [ 1.47982048e+00, -3.77712802e-01],\n",
              "       [ 4.56676861e-01, -2.94934321e-01],\n",
              "       [ 1.99682455e+00,  3.63866999e-01],\n",
              "       [ 8.83682414e-01, -4.24459839e-01],\n",
              "       [ 1.00812283e+00, -4.45022320e-01],\n",
              "       [ 3.94722661e-02,  2.81852028e-01],\n",
              "       [ 4.77423984e-01,  8.77652359e-01],\n",
              "       [ 3.71769184e-01, -2.68835969e-01],\n",
              "       [ 1.89365819e+00,  1.78324996e-01],\n",
              "       [ 9.99041868e-01,  7.80524751e-02],\n",
              "       [ 2.74631578e-01,  1.04722866e+00],\n",
              "       [ 2.27740448e-01, -3.52295626e-02],\n",
              "       [-9.59341307e-03,  3.52395343e-01],\n",
              "       [ 2.06636314e-01, -2.00588291e-02],\n",
              "       [-8.82085737e-01,  5.20322240e-01],\n",
              "       [-9.18268409e-01,  6.25667483e-01],\n",
              "       [-8.66670027e-01,  1.54616615e-01],\n",
              "       [-4.33154940e-01,  8.15140294e-01],\n",
              "       [ 1.24230304e+00, -4.47929912e-01],\n",
              "       [-2.32841195e-01,  1.05410512e+00],\n",
              "       [ 1.66784697e+00, -1.96635930e-01],\n",
              "       [ 1.49140344e+00, -3.68984892e-01],\n",
              "       [-1.08108588e+00,  4.56799604e-02],\n",
              "       [ 2.03809595e+00,  5.10632788e-01],\n",
              "       [ 9.17739068e-01,  4.38476262e-01],\n",
              "       [ 9.81556463e-01, -4.89448565e-01],\n",
              "       [-2.56180461e-01,  1.03920861e+00],\n",
              "       [-9.29175484e-01,  4.15624689e-01],\n",
              "       [ 9.58694103e-01,  3.27840843e-01],\n",
              "       [-7.50714139e-01,  6.69824996e-01],\n",
              "       [ 8.25589778e-01, -5.47465517e-01],\n",
              "       [-7.78786036e-01,  4.94444046e-01]])"
            ]
          },
          "metadata": {},
          "execution_count": 5
        }
      ]
    },
    {
      "cell_type": "code",
      "source": [
        "y"
      ],
      "metadata": {
        "colab": {
          "base_uri": "https://localhost:8080/"
        },
        "id": "HKcTDVHL7bJd",
        "outputId": "e4feb943-c99c-4c35-ab99-de357415d382"
      },
      "execution_count": 6,
      "outputs": [
        {
          "output_type": "execute_result",
          "data": {
            "text/plain": [
              "array([1, 0, 0, 0, 0, 1, 1, 1, 0, 0, 1, 1, 1, 1, 0, 1, 1, 0, 1, 0, 1, 0,\n",
              "       0, 0, 1, 0, 0, 0, 0, 0, 1, 0, 1, 1, 0, 0, 0, 1, 1, 1, 0, 0, 0, 1,\n",
              "       1, 0, 1, 0, 1, 0, 1, 1, 1, 0, 1, 0, 1, 1, 1, 1, 1, 1, 0, 0, 1, 1,\n",
              "       1, 0, 1, 1, 0, 1, 0, 0, 1, 0, 0, 1, 0, 0, 0, 0, 1, 1, 1, 0, 1, 0,\n",
              "       1, 1, 0, 0, 0, 0, 0, 1, 0, 0, 1, 0, 0, 0, 1, 1, 0, 0, 0, 1, 0, 1,\n",
              "       0, 1, 1, 1, 1, 0, 0, 0, 0, 0, 1, 1, 1, 0, 0, 1, 1, 0, 0, 0, 1, 1,\n",
              "       0, 1, 1, 0, 1, 0, 0, 0, 1, 1, 1, 0, 1, 1, 1, 1, 0, 1, 0, 0, 1, 0,\n",
              "       0, 1, 0, 1, 1, 0, 0, 1, 0, 0, 1, 1, 0, 1, 1, 0, 0, 0, 1, 1, 1, 1,\n",
              "       0, 1, 0, 0, 1, 0, 1, 0, 0, 0, 1, 1, 0, 0, 0, 0, 1, 1, 0, 1, 0, 1,\n",
              "       1, 1, 1, 0, 0, 0, 0, 1, 1, 1, 1, 1, 1, 1, 1, 0, 0, 0, 0, 0, 1, 1,\n",
              "       1, 1, 1, 1, 0, 1, 1, 0, 0, 1, 1, 1, 0, 0, 0, 0, 1, 0, 1, 1, 0, 1,\n",
              "       0, 1, 0, 0, 0, 0, 1, 0])"
            ]
          },
          "metadata": {},
          "execution_count": 6
        }
      ]
    },
    {
      "cell_type": "code",
      "source": [
        "plt.scatter(X[:,0],X[:,1],c=y,s=50)\n",
        "plt.show()"
      ],
      "metadata": {
        "colab": {
          "base_uri": "https://localhost:8080/",
          "height": 430
        },
        "id": "3ynXYFzG7b-k",
        "outputId": "f9c6f469-1bed-4215-b35a-1022219efe31"
      },
      "execution_count": 7,
      "outputs": [
        {
          "output_type": "display_data",
          "data": {
            "text/plain": [
              "<Figure size 640x480 with 1 Axes>"
            ],
            "image/png": "[encoded data removed]"
          },
          "metadata": {}
        }
      ]
    },
    {
      "cell_type": "code",
      "source": [
        "X_train_full,X_test,y_train_full,y_test = train_test_split(X,y,test_size=0.25,random_state=42)"
      ],
      "metadata": {
        "id": "8GMlMXr79PQt"
      },
      "execution_count": 8,
      "outputs": []
    },
    {
      "cell_type": "code",
      "source": [
        "print(X_train_full.shape)\n",
        "print(X_test.shape)\n",
        "print(y_train_full.shape)\n",
        "print(y_test.shape)"
      ],
      "metadata": {
        "colab": {
          "base_uri": "https://localhost:8080/"
        },
        "id": "CXIyL4WH9PTX",
        "outputId": "dd1825f7-0e5a-4dc5-d8e7-8f39e72a54ff"
      },
      "execution_count": 9,
      "outputs": [
        {
          "output_type": "stream",
          "name": "stdout",
          "text": [
            "(187, 2)\n",
            "(63, 2)\n",
            "(187,)\n",
            "(63,)\n"
          ]
        }
      ]
    },
    {
      "cell_type": "code",
      "source": [
        "X_train,X_valid,y_train,y_valid = train_test_split(X_train_full,y_train_full,test_size=0.25,random_state=42)"
      ],
      "metadata": {
        "id": "AO_LPdod9PWN"
      },
      "execution_count": 10,
      "outputs": []
    },
    {
      "cell_type": "code",
      "source": [
        "print(X_train.shape)\n",
        "print(X_valid.shape)\n",
        "print(y_train.shape)\n",
        "print(y_valid.shape)"
      ],
      "metadata": {
        "colab": {
          "base_uri": "https://localhost:8080/"
        },
        "id": "9g7oVKYY9PZD",
        "outputId": "ee62ea57-3426-406c-d7dc-3424f928b1e0"
      },
      "execution_count": 11,
      "outputs": [
        {
          "output_type": "stream",
          "name": "stdout",
          "text": [
            "(140, 2)\n",
            "(47, 2)\n",
            "(140,)\n",
            "(47,)\n"
          ]
        }
      ]
    },
    {
      "cell_type": "code",
      "source": [
        "sc = StandardScaler()\n",
        "X_train = sc.fit_transform(X_train)\n",
        "X_valid = sc.transform(X_valid)\n",
        "X_test = sc.transform(X_test)"
      ],
      "metadata": {
        "id": "uVTluRq-9Pcd"
      },
      "execution_count": 12,
      "outputs": []
    },
    {
      "cell_type": "code",
      "source": [
        "model = tf.keras.models.Sequential()\n",
        "\n",
        "model.add(tf.keras.layers.Dense(10, activation='sigmoid', input_dim=2))\n",
        "model.add(tf.keras.layers.Dense(10, activation='sigmoid'))\n",
        "model.add(tf.keras.layers.Dense(10, activation='sigmoid'))\n",
        "model.add(tf.keras.layers.Dense(10, activation='sigmoid'))\n",
        "model.add(tf.keras.layers.Dense(10, activation='sigmoid'))\n",
        "model.add(tf.keras.layers.Dense(10, activation='sigmoid'))\n",
        "model.add(tf.keras.layers.Dense(10, activation='sigmoid'))\n",
        "model.add(tf.keras.layers.Dense(10, activation='sigmoid'))\n",
        "model.add(tf.keras.layers.Dense(10, activation='sigmoid'))\n",
        "model.add(tf.keras.layers.Dense(10, activation='sigmoid'))\n",
        "model.add(tf.keras.layers.Dense(10, activation='sigmoid'))\n",
        "model.add(tf.keras.layers.Dense(1, activation='sigmoid'))"
      ],
      "metadata": {
        "id": "vnPkIdEe7kmJ"
      },
      "execution_count": 13,
      "outputs": []
    },
    {
      "cell_type": "code",
      "source": [
        "Loss_function = 'binary_crossentropy'\n",
        "Optimizer = 'adam'\n",
        "Metrics = 'accuracy'\n",
        "\n",
        "model.compile(\n",
        "  loss = Loss_function,\n",
        "  optimizer = Optimizer,\n",
        "  metrics = Metrics\n",
        ")\n",
        "\n"
      ],
      "metadata": {
        "id": "tRMjwneK8Tjr"
      },
      "execution_count": 14,
      "outputs": []
    },
    {
      "cell_type": "code",
      "source": [
        "old_weights = model.get_weights()[0]"
      ],
      "metadata": {
        "id": "u67KnUlsAGwG"
      },
      "execution_count": 15,
      "outputs": []
    },
    {
      "cell_type": "code",
      "source": [
        "model.fit(X_train,y_train,validation_data = (X_valid,y_valid),epochs=50)"
      ],
      "metadata": {
        "colab": {
          "base_uri": "https://localhost:8080/"
        },
        "id": "mzk2Xw8a9KM5",
        "outputId": "c0b76717-a16a-4280-9a7a-a742786ad09e"
      },
      "execution_count": 16,
      "outputs": [
        {
          "output_type": "stream",
          "name": "stdout",
          "text": [
            "Epoch 1/50\n",
            "5/5 [==============================] - 8s 154ms/step - loss: 0.7397 - accuracy: 0.4643 - val_loss: 0.6843 - val_accuracy: 0.5745\n",
            "Epoch 2/50\n",
            "5/5 [==============================] - 0s 42ms/step - loss: 0.7300 - accuracy: 0.4643 - val_loss: 0.6827 - val_accuracy: 0.5745\n",
            "Epoch 3/50\n",
            "5/5 [==============================] - 0s 35ms/step - loss: 0.7209 - accuracy: 0.4643 - val_loss: 0.6820 - val_accuracy: 0.5745\n",
            "Epoch 4/50\n",
            "5/5 [==============================] - 0s 21ms/step - loss: 0.7141 - accuracy: 0.4643 - val_loss: 0.6823 - val_accuracy: 0.5745\n",
            "Epoch 5/50\n",
            "5/5 [==============================] - 0s 39ms/step - loss: 0.7088 - accuracy: 0.4643 - val_loss: 0.6833 - val_accuracy: 0.5745\n",
            "Epoch 6/50\n",
            "5/5 [==============================] - 0s 28ms/step - loss: 0.7037 - accuracy: 0.4643 - val_loss: 0.6848 - val_accuracy: 0.5745\n",
            "Epoch 7/50\n",
            "5/5 [==============================] - 0s 48ms/step - loss: 0.6996 - accuracy: 0.4643 - val_loss: 0.6869 - val_accuracy: 0.5745\n",
            "Epoch 8/50\n",
            "5/5 [==============================] - 0s 32ms/step - loss: 0.6975 - accuracy: 0.4643 - val_loss: 0.6893 - val_accuracy: 0.5745\n",
            "Epoch 9/50\n",
            "5/5 [==============================] - 0s 19ms/step - loss: 0.6947 - accuracy: 0.4643 - val_loss: 0.6911 - val_accuracy: 0.5745\n",
            "Epoch 10/50\n",
            "5/5 [==============================] - 0s 22ms/step - loss: 0.6945 - accuracy: 0.4643 - val_loss: 0.6936 - val_accuracy: 0.4255\n",
            "Epoch 11/50\n",
            "5/5 [==============================] - 0s 34ms/step - loss: 0.6927 - accuracy: 0.5357 - val_loss: 0.6955 - val_accuracy: 0.4255\n",
            "Epoch 12/50\n",
            "5/5 [==============================] - 0s 24ms/step - loss: 0.6918 - accuracy: 0.5357 - val_loss: 0.6974 - val_accuracy: 0.4255\n",
            "Epoch 13/50\n",
            "5/5 [==============================] - 0s 25ms/step - loss: 0.6913 - accuracy: 0.5357 - val_loss: 0.6992 - val_accuracy: 0.4255\n",
            "Epoch 14/50\n",
            "5/5 [==============================] - 0s 34ms/step - loss: 0.6911 - accuracy: 0.5357 - val_loss: 0.7007 - val_accuracy: 0.4255\n",
            "Epoch 15/50\n",
            "5/5 [==============================] - 0s 27ms/step - loss: 0.6910 - accuracy: 0.5357 - val_loss: 0.7022 - val_accuracy: 0.4255\n",
            "Epoch 16/50\n",
            "5/5 [==============================] - 0s 47ms/step - loss: 0.6909 - accuracy: 0.5357 - val_loss: 0.7034 - val_accuracy: 0.4255\n",
            "Epoch 17/50\n",
            "5/5 [==============================] - 0s 28ms/step - loss: 0.6907 - accuracy: 0.5357 - val_loss: 0.7037 - val_accuracy: 0.4255\n",
            "Epoch 18/50\n",
            "5/5 [==============================] - 0s 32ms/step - loss: 0.6907 - accuracy: 0.5357 - val_loss: 0.7037 - val_accuracy: 0.4255\n",
            "Epoch 19/50\n",
            "5/5 [==============================] - 0s 20ms/step - loss: 0.6908 - accuracy: 0.5357 - val_loss: 0.7036 - val_accuracy: 0.4255\n",
            "Epoch 20/50\n",
            "5/5 [==============================] - 0s 31ms/step - loss: 0.6908 - accuracy: 0.5357 - val_loss: 0.7037 - val_accuracy: 0.4255\n",
            "Epoch 21/50\n",
            "5/5 [==============================] - 0s 27ms/step - loss: 0.6907 - accuracy: 0.5357 - val_loss: 0.7040 - val_accuracy: 0.4255\n",
            "Epoch 22/50\n",
            "5/5 [==============================] - 0s 48ms/step - loss: 0.6906 - accuracy: 0.5357 - val_loss: 0.7043 - val_accuracy: 0.4255\n",
            "Epoch 23/50\n",
            "5/5 [==============================] - 0s 29ms/step - loss: 0.6907 - accuracy: 0.5357 - val_loss: 0.7053 - val_accuracy: 0.4255\n",
            "Epoch 24/50\n",
            "5/5 [==============================] - 0s 23ms/step - loss: 0.6908 - accuracy: 0.5357 - val_loss: 0.7057 - val_accuracy: 0.4255\n",
            "Epoch 25/50\n",
            "5/5 [==============================] - 0s 26ms/step - loss: 0.6906 - accuracy: 0.5357 - val_loss: 0.7079 - val_accuracy: 0.4255\n",
            "Epoch 26/50\n",
            "5/5 [==============================] - 0s 28ms/step - loss: 0.6909 - accuracy: 0.5357 - val_loss: 0.7098 - val_accuracy: 0.4255\n",
            "Epoch 27/50\n",
            "5/5 [==============================] - 0s 28ms/step - loss: 0.6907 - accuracy: 0.5357 - val_loss: 0.7104 - val_accuracy: 0.4255\n",
            "Epoch 28/50\n",
            "5/5 [==============================] - 0s 23ms/step - loss: 0.6909 - accuracy: 0.5357 - val_loss: 0.7108 - val_accuracy: 0.4255\n",
            "Epoch 29/50\n",
            "5/5 [==============================] - 0s 33ms/step - loss: 0.6909 - accuracy: 0.5357 - val_loss: 0.7102 - val_accuracy: 0.4255\n",
            "Epoch 30/50\n",
            "5/5 [==============================] - 0s 48ms/step - loss: 0.6911 - accuracy: 0.5357 - val_loss: 0.7084 - val_accuracy: 0.4255\n",
            "Epoch 31/50\n",
            "5/5 [==============================] - 0s 30ms/step - loss: 0.6907 - accuracy: 0.5357 - val_loss: 0.7084 - val_accuracy: 0.4255\n",
            "Epoch 32/50\n",
            "5/5 [==============================] - 0s 43ms/step - loss: 0.6906 - accuracy: 0.5357 - val_loss: 0.7074 - val_accuracy: 0.4255\n",
            "Epoch 33/50\n",
            "5/5 [==============================] - 0s 31ms/step - loss: 0.6906 - accuracy: 0.5357 - val_loss: 0.7059 - val_accuracy: 0.4255\n",
            "Epoch 34/50\n",
            "5/5 [==============================] - 0s 31ms/step - loss: 0.6906 - accuracy: 0.5357 - val_loss: 0.7054 - val_accuracy: 0.4255\n",
            "Epoch 35/50\n",
            "5/5 [==============================] - 0s 30ms/step - loss: 0.6906 - accuracy: 0.5357 - val_loss: 0.7054 - val_accuracy: 0.4255\n",
            "Epoch 36/50\n",
            "5/5 [==============================] - 0s 37ms/step - loss: 0.6905 - accuracy: 0.5357 - val_loss: 0.7046 - val_accuracy: 0.4255\n",
            "Epoch 37/50\n",
            "5/5 [==============================] - 0s 47ms/step - loss: 0.6907 - accuracy: 0.5357 - val_loss: 0.7037 - val_accuracy: 0.4255\n",
            "Epoch 38/50\n",
            "5/5 [==============================] - 0s 66ms/step - loss: 0.6907 - accuracy: 0.5357 - val_loss: 0.7036 - val_accuracy: 0.4255\n",
            "Epoch 39/50\n",
            "5/5 [==============================] - 0s 57ms/step - loss: 0.6907 - accuracy: 0.5357 - val_loss: 0.7031 - val_accuracy: 0.4255\n",
            "Epoch 40/50\n",
            "5/5 [==============================] - 0s 60ms/step - loss: 0.6909 - accuracy: 0.5357 - val_loss: 0.7025 - val_accuracy: 0.4255\n",
            "Epoch 41/50\n",
            "5/5 [==============================] - 0s 61ms/step - loss: 0.6908 - accuracy: 0.5357 - val_loss: 0.7025 - val_accuracy: 0.4255\n",
            "Epoch 42/50\n",
            "5/5 [==============================] - 0s 35ms/step - loss: 0.6910 - accuracy: 0.5357 - val_loss: 0.7021 - val_accuracy: 0.4255\n",
            "Epoch 43/50\n",
            "5/5 [==============================] - 0s 47ms/step - loss: 0.6907 - accuracy: 0.5357 - val_loss: 0.7031 - val_accuracy: 0.4255\n",
            "Epoch 44/50\n",
            "5/5 [==============================] - 0s 32ms/step - loss: 0.6906 - accuracy: 0.5357 - val_loss: 0.7043 - val_accuracy: 0.4255\n",
            "Epoch 45/50\n",
            "5/5 [==============================] - 0s 53ms/step - loss: 0.6907 - accuracy: 0.5357 - val_loss: 0.7062 - val_accuracy: 0.4255\n",
            "Epoch 46/50\n",
            "5/5 [==============================] - 0s 40ms/step - loss: 0.6905 - accuracy: 0.5357 - val_loss: 0.7076 - val_accuracy: 0.4255\n",
            "Epoch 47/50\n",
            "5/5 [==============================] - 0s 38ms/step - loss: 0.6906 - accuracy: 0.5357 - val_loss: 0.7083 - val_accuracy: 0.4255\n",
            "Epoch 48/50\n",
            "5/5 [==============================] - 0s 41ms/step - loss: 0.6906 - accuracy: 0.5357 - val_loss: 0.7092 - val_accuracy: 0.4255\n",
            "Epoch 49/50\n",
            "5/5 [==============================] - 0s 47ms/step - loss: 0.6907 - accuracy: 0.5357 - val_loss: 0.7100 - val_accuracy: 0.4255\n",
            "Epoch 50/50\n",
            "5/5 [==============================] - 0s 64ms/step - loss: 0.6907 - accuracy: 0.5357 - val_loss: 0.7101 - val_accuracy: 0.4255\n"
          ]
        },
        {
          "output_type": "execute_result",
          "data": {
            "text/plain": [
              "<keras.src.callbacks.History at 0x7c8fa075cf10>"
            ]
          },
          "metadata": {},
          "execution_count": 16
        }
      ]
    },
    {
      "cell_type": "code",
      "source": [
        "new_weights = model.get_weights()[0]"
      ],
      "metadata": {
        "id": "QJsstbDFACEB"
      },
      "execution_count": 17,
      "outputs": []
    },
    {
      "cell_type": "code",
      "source": [
        "percent_change = abs(100*(old_weights - new_weights)/ old_weights)"
      ],
      "metadata": {
        "id": "sVBG9dhWAd-d"
      },
      "execution_count": 18,
      "outputs": []
    },
    {
      "cell_type": "code",
      "source": [
        "percent_change"
      ],
      "metadata": {
        "colab": {
          "base_uri": "https://localhost:8080/"
        },
        "id": "YGB8BZzMAg7I",
        "outputId": "33d1c6bf-e5df-4bf9-b00e-384cfffdc119"
      },
      "execution_count": 19,
      "outputs": [
        {
          "output_type": "execute_result",
          "data": {
            "text/plain": [
              "array([[31.575989  ,  1.6206694 ,  3.3423636 , 21.701334  , 33.051594  ,\n",
              "         3.828426  ,  2.055956  ,  1.2129405 ,  3.1000962 ,  0.76101726],\n",
              "       [ 5.4891305 ,  1.1011333 ,  9.686303  ,  5.6242886 ,  5.6948786 ,\n",
              "        10.826454  ,  9.379657  ,  2.9388452 ,  1.8422577 ,  2.2892263 ]],\n",
              "      dtype=float32)"
            ]
          },
          "metadata": {},
          "execution_count": 19
        }
      ]
    },
    {
      "cell_type": "code",
      "source": [
        "from mlxtend.plotting import plot_decision_regions\n",
        "plot_decision_regions(X_train, y_train.astype('int'), clf=model, legend=2)"
      ],
      "metadata": {
        "colab": {
          "base_uri": "https://localhost:8080/",
          "height": 465
        },
        "id": "zDAB3OFfAmq3",
        "outputId": "a91747b4-810b-4bb3-bfac-d3cf96c832bf"
      },
      "execution_count": 20,
      "outputs": [
        {
          "output_type": "stream",
          "name": "stdout",
          "text": [
            "9600/9600 [==============================] - 28s 3ms/step\n"
          ]
        },
        {
          "output_type": "execute_result",
          "data": {
            "text/plain": [
              "<Axes: >"
            ]
          },
          "metadata": {},
          "execution_count": 20
        },
        {
          "output_type": "display_data",
          "data": {
            "text/plain": [
              "<Figure size 640x480 with 1 Axes>"
            ],
            "image/png": "[encoded data removed]"
          },
          "metadata": {}
        }
      ]
    },
    {
      "cell_type": "markdown",
      "source": [
        "1. By Removing the complexity of model"
      ],
      "metadata": {
        "id": "AsEcRn4JBdbP"
      }
    },
    {
      "cell_type": "code",
      "source": [
        "del model"
      ],
      "metadata": {
        "id": "JgsFbzB9A7GL"
      },
      "execution_count": 21,
      "outputs": []
    },
    {
      "cell_type": "code",
      "source": [
        "model = tf.keras.models.Sequential()\n",
        "model.add(tf.keras.layers.Dense(10, activation = 'sigmoid', input_dim = 2))\n",
        "model.add(tf.keras.layers.Dense(10,activation = 'sigmoid'))\n",
        "#model.add(tf.keras.layers.Dense(10,activation = 'sigmoid'))\n",
        "model.add(tf.keras.layers.Dense(1,activation = 'sigmoid'))"
      ],
      "metadata": {
        "id": "sZDPVMB4BkK_"
      },
      "execution_count": 22,
      "outputs": []
    },
    {
      "cell_type": "code",
      "source": [
        "Loss_function  = 'binary_crossentropy'\n",
        "Optimizer = 'adam'\n",
        "Metrics = 'accuracy'\n",
        "\n",
        "model.compile(\n",
        "    loss = Loss_function,\n",
        "    optimizer = Optimizer,\n",
        "    metrics = Metrics\n",
        ")"
      ],
      "metadata": {
        "id": "C-TqMybdB3_8"
      },
      "execution_count": 23,
      "outputs": []
    },
    {
      "cell_type": "code",
      "source": [
        "old_weights = model.get_weights()[0]"
      ],
      "metadata": {
        "id": "iczFB3xtFhpi"
      },
      "execution_count": 24,
      "outputs": []
    },
    {
      "cell_type": "code",
      "source": [
        "model.fit(X_train,y_train,validation_data = (X_valid,y_valid),epochs = 50)"
      ],
      "metadata": {
        "colab": {
          "base_uri": "https://localhost:8080/"
        },
        "id": "HRv1TskMFSSw",
        "outputId": "fcd77869-28dd-400c-dd53-2d6c72cfb28a"
      },
      "execution_count": 25,
      "outputs": [
        {
          "output_type": "stream",
          "name": "stdout",
          "text": [
            "Epoch 1/50\n",
            "5/5 [==============================] - 1s 48ms/step - loss: 0.8225 - accuracy: 0.5357 - val_loss: 0.9445 - val_accuracy: 0.4255\n",
            "Epoch 2/50\n",
            "5/5 [==============================] - 0s 11ms/step - loss: 0.8106 - accuracy: 0.5357 - val_loss: 0.9271 - val_accuracy: 0.4255\n",
            "Epoch 3/50\n",
            "5/5 [==============================] - 0s 11ms/step - loss: 0.8001 - accuracy: 0.5357 - val_loss: 0.9101 - val_accuracy: 0.4255\n",
            "Epoch 4/50\n",
            "5/5 [==============================] - 0s 10ms/step - loss: 0.7883 - accuracy: 0.5357 - val_loss: 0.8943 - val_accuracy: 0.4255\n",
            "Epoch 5/50\n",
            "5/5 [==============================] - 0s 13ms/step - loss: 0.7778 - accuracy: 0.5357 - val_loss: 0.8790 - val_accuracy: 0.4255\n",
            "Epoch 6/50\n",
            "5/5 [==============================] - 0s 14ms/step - loss: 0.7678 - accuracy: 0.5357 - val_loss: 0.8644 - val_accuracy: 0.4255\n",
            "Epoch 7/50\n",
            "5/5 [==============================] - 0s 15ms/step - loss: 0.7591 - accuracy: 0.5357 - val_loss: 0.8506 - val_accuracy: 0.4255\n",
            "Epoch 8/50\n",
            "5/5 [==============================] - 0s 10ms/step - loss: 0.7505 - accuracy: 0.5357 - val_loss: 0.8383 - val_accuracy: 0.4255\n",
            "Epoch 9/50\n",
            "5/5 [==============================] - 0s 11ms/step - loss: 0.7436 - accuracy: 0.5357 - val_loss: 0.8262 - val_accuracy: 0.4255\n",
            "Epoch 10/50\n",
            "5/5 [==============================] - 0s 16ms/step - loss: 0.7359 - accuracy: 0.5357 - val_loss: 0.8150 - val_accuracy: 0.4255\n",
            "Epoch 11/50\n",
            "5/5 [==============================] - 0s 14ms/step - loss: 0.7294 - accuracy: 0.5357 - val_loss: 0.8045 - val_accuracy: 0.4255\n",
            "Epoch 12/50\n",
            "5/5 [==============================] - 0s 14ms/step - loss: 0.7236 - accuracy: 0.5357 - val_loss: 0.7948 - val_accuracy: 0.4255\n",
            "Epoch 13/50\n",
            "5/5 [==============================] - 0s 15ms/step - loss: 0.7177 - accuracy: 0.5357 - val_loss: 0.7861 - val_accuracy: 0.4255\n",
            "Epoch 14/50\n",
            "5/5 [==============================] - 0s 11ms/step - loss: 0.7128 - accuracy: 0.5357 - val_loss: 0.7782 - val_accuracy: 0.4255\n",
            "Epoch 15/50\n",
            "5/5 [==============================] - 0s 15ms/step - loss: 0.7079 - accuracy: 0.5357 - val_loss: 0.7707 - val_accuracy: 0.4255\n",
            "Epoch 16/50\n",
            "5/5 [==============================] - 0s 15ms/step - loss: 0.7039 - accuracy: 0.5357 - val_loss: 0.7629 - val_accuracy: 0.4255\n",
            "Epoch 17/50\n",
            "5/5 [==============================] - 0s 15ms/step - loss: 0.6997 - accuracy: 0.5357 - val_loss: 0.7559 - val_accuracy: 0.4255\n",
            "Epoch 18/50\n",
            "5/5 [==============================] - 0s 15ms/step - loss: 0.6960 - accuracy: 0.5357 - val_loss: 0.7491 - val_accuracy: 0.4255\n",
            "Epoch 19/50\n",
            "5/5 [==============================] - 0s 11ms/step - loss: 0.6918 - accuracy: 0.5357 - val_loss: 0.7431 - val_accuracy: 0.4255\n",
            "Epoch 20/50\n",
            "5/5 [==============================] - 0s 11ms/step - loss: 0.6885 - accuracy: 0.5357 - val_loss: 0.7373 - val_accuracy: 0.4255\n",
            "Epoch 21/50\n",
            "5/5 [==============================] - 0s 11ms/step - loss: 0.6852 - accuracy: 0.5357 - val_loss: 0.7316 - val_accuracy: 0.4255\n",
            "Epoch 22/50\n",
            "5/5 [==============================] - 0s 15ms/step - loss: 0.6824 - accuracy: 0.5357 - val_loss: 0.7261 - val_accuracy: 0.4255\n",
            "Epoch 23/50\n",
            "5/5 [==============================] - 0s 15ms/step - loss: 0.6791 - accuracy: 0.5357 - val_loss: 0.7214 - val_accuracy: 0.4255\n",
            "Epoch 24/50\n",
            "5/5 [==============================] - 0s 11ms/step - loss: 0.6770 - accuracy: 0.5357 - val_loss: 0.7159 - val_accuracy: 0.4255\n",
            "Epoch 25/50\n",
            "5/5 [==============================] - 0s 12ms/step - loss: 0.6739 - accuracy: 0.5357 - val_loss: 0.7114 - val_accuracy: 0.4255\n",
            "Epoch 26/50\n",
            "5/5 [==============================] - 0s 10ms/step - loss: 0.6711 - accuracy: 0.5357 - val_loss: 0.7072 - val_accuracy: 0.4255\n",
            "Epoch 27/50\n",
            "5/5 [==============================] - 0s 14ms/step - loss: 0.6686 - accuracy: 0.5357 - val_loss: 0.7032 - val_accuracy: 0.4255\n",
            "Epoch 28/50\n",
            "5/5 [==============================] - 0s 12ms/step - loss: 0.6660 - accuracy: 0.5357 - val_loss: 0.6993 - val_accuracy: 0.4255\n",
            "Epoch 29/50\n",
            "5/5 [==============================] - 0s 11ms/step - loss: 0.6637 - accuracy: 0.5357 - val_loss: 0.6950 - val_accuracy: 0.4255\n",
            "Epoch 30/50\n",
            "5/5 [==============================] - 0s 15ms/step - loss: 0.6615 - accuracy: 0.5357 - val_loss: 0.6910 - val_accuracy: 0.4255\n",
            "Epoch 31/50\n",
            "5/5 [==============================] - 0s 15ms/step - loss: 0.6593 - accuracy: 0.5357 - val_loss: 0.6872 - val_accuracy: 0.4255\n",
            "Epoch 32/50\n",
            "5/5 [==============================] - 0s 11ms/step - loss: 0.6568 - accuracy: 0.5357 - val_loss: 0.6841 - val_accuracy: 0.4255\n",
            "Epoch 33/50\n",
            "5/5 [==============================] - 0s 11ms/step - loss: 0.6545 - accuracy: 0.5357 - val_loss: 0.6810 - val_accuracy: 0.4255\n",
            "Epoch 34/50\n",
            "5/5 [==============================] - 0s 15ms/step - loss: 0.6523 - accuracy: 0.5357 - val_loss: 0.6779 - val_accuracy: 0.4255\n",
            "Epoch 35/50\n",
            "5/5 [==============================] - 0s 15ms/step - loss: 0.6501 - accuracy: 0.5357 - val_loss: 0.6745 - val_accuracy: 0.4255\n",
            "Epoch 36/50\n",
            "5/5 [==============================] - 0s 10ms/step - loss: 0.6477 - accuracy: 0.5357 - val_loss: 0.6713 - val_accuracy: 0.4255\n",
            "Epoch 37/50\n",
            "5/5 [==============================] - 0s 14ms/step - loss: 0.6454 - accuracy: 0.5357 - val_loss: 0.6685 - val_accuracy: 0.4255\n",
            "Epoch 38/50\n",
            "5/5 [==============================] - 0s 15ms/step - loss: 0.6430 - accuracy: 0.5357 - val_loss: 0.6656 - val_accuracy: 0.4255\n",
            "Epoch 39/50\n",
            "5/5 [==============================] - 0s 10ms/step - loss: 0.6406 - accuracy: 0.5357 - val_loss: 0.6633 - val_accuracy: 0.4255\n",
            "Epoch 40/50\n",
            "5/5 [==============================] - 0s 10ms/step - loss: 0.6382 - accuracy: 0.5357 - val_loss: 0.6606 - val_accuracy: 0.4255\n",
            "Epoch 41/50\n",
            "5/5 [==============================] - 0s 14ms/step - loss: 0.6358 - accuracy: 0.5357 - val_loss: 0.6579 - val_accuracy: 0.4468\n",
            "Epoch 42/50\n",
            "5/5 [==============================] - 0s 11ms/step - loss: 0.6334 - accuracy: 0.5357 - val_loss: 0.6550 - val_accuracy: 0.4894\n",
            "Epoch 43/50\n",
            "5/5 [==============================] - 0s 11ms/step - loss: 0.6310 - accuracy: 0.5714 - val_loss: 0.6527 - val_accuracy: 0.5106\n",
            "Epoch 44/50\n",
            "5/5 [==============================] - 0s 11ms/step - loss: 0.6284 - accuracy: 0.6357 - val_loss: 0.6502 - val_accuracy: 0.5532\n",
            "Epoch 45/50\n",
            "5/5 [==============================] - 0s 14ms/step - loss: 0.6259 - accuracy: 0.6500 - val_loss: 0.6475 - val_accuracy: 0.5957\n",
            "Epoch 46/50\n",
            "5/5 [==============================] - 0s 15ms/step - loss: 0.6233 - accuracy: 0.6714 - val_loss: 0.6450 - val_accuracy: 0.6596\n",
            "Epoch 47/50\n",
            "5/5 [==============================] - 0s 15ms/step - loss: 0.6206 - accuracy: 0.6857 - val_loss: 0.6417 - val_accuracy: 0.6596\n",
            "Epoch 48/50\n",
            "5/5 [==============================] - 0s 10ms/step - loss: 0.6179 - accuracy: 0.7357 - val_loss: 0.6384 - val_accuracy: 0.7021\n",
            "Epoch 49/50\n",
            "5/5 [==============================] - 0s 10ms/step - loss: 0.6151 - accuracy: 0.7357 - val_loss: 0.6353 - val_accuracy: 0.7021\n",
            "Epoch 50/50\n",
            "5/5 [==============================] - 0s 14ms/step - loss: 0.6122 - accuracy: 0.7571 - val_loss: 0.6319 - val_accuracy: 0.7021\n"
          ]
        },
        {
          "output_type": "execute_result",
          "data": {
            "text/plain": [
              "<keras.src.callbacks.History at 0x7c8f405a3cd0>"
            ]
          },
          "metadata": {},
          "execution_count": 25
        }
      ]
    },
    {
      "cell_type": "code",
      "source": [
        "new_weights = model.get_weights()[0]"
      ],
      "metadata": {
        "id": "StCXXC3bFfuK"
      },
      "execution_count": 26,
      "outputs": []
    },
    {
      "cell_type": "code",
      "source": [
        "percent_change"
      ],
      "metadata": {
        "colab": {
          "base_uri": "https://localhost:8080/"
        },
        "id": "h2W2F3HaFzHv",
        "outputId": "92804389-b474-45da-e9ff-0982fb6f126b"
      },
      "execution_count": 27,
      "outputs": [
        {
          "output_type": "execute_result",
          "data": {
            "text/plain": [
              "array([[31.575989  ,  1.6206694 ,  3.3423636 , 21.701334  , 33.051594  ,\n",
              "         3.828426  ,  2.055956  ,  1.2129405 ,  3.1000962 ,  0.76101726],\n",
              "       [ 5.4891305 ,  1.1011333 ,  9.686303  ,  5.6242886 ,  5.6948786 ,\n",
              "        10.826454  ,  9.379657  ,  2.9388452 ,  1.8422577 ,  2.2892263 ]],\n",
              "      dtype=float32)"
            ]
          },
          "metadata": {},
          "execution_count": 27
        }
      ]
    },
    {
      "cell_type": "code",
      "source": [
        "from mlxtend.plotting import plot_decision_regions\n",
        "plot_decision_regions(X_train, y_train.astype('int'), clf=model, legend=2)"
      ],
      "metadata": {
        "colab": {
          "base_uri": "https://localhost:8080/",
          "height": 465
        },
        "id": "S11VT_VqF2MO",
        "outputId": "7a4a9268-4f17-4b36-dbbd-6e41891065a3"
      },
      "execution_count": 28,
      "outputs": [
        {
          "output_type": "stream",
          "name": "stdout",
          "text": [
            "9600/9600 [==============================] - 17s 2ms/step\n"
          ]
        },
        {
          "output_type": "execute_result",
          "data": {
            "text/plain": [
              "<Axes: >"
            ]
          },
          "metadata": {},
          "execution_count": 28
        },
        {
          "output_type": "display_data",
          "data": {
            "text/plain": [
              "<Figure size 640x480 with 1 Axes>"
            ],
            "image/png": "[encoded data removed]"
          },
          "metadata": {}
        }
      ]
    },
    {
      "cell_type": "markdown",
      "source": [
        "2. By using Relu as activation function"
      ],
      "metadata": {
        "id": "E9FhxcxoGg0I"
      }
    },
    {
      "cell_type": "code",
      "source": [
        "del model"
      ],
      "metadata": {
        "id": "HUWOmEUhF5x7"
      },
      "execution_count": 29,
      "outputs": []
    },
    {
      "cell_type": "code",
      "source": [
        "model = tf.keras.models.Sequential()\n",
        "\n",
        "model.add(tf.keras.layers.Dense(10, activation='relu', input_dim=2))\n",
        "model.add(tf.keras.layers.Dense(10, activation='relu'))\n",
        "model.add(tf.keras.layers.Dense(10, activation='relu'))\n",
        "model.add(tf.keras.layers.Dense(10, activation='relu'))\n",
        "model.add(tf.keras.layers.Dense(10, activation='relu'))\n",
        "model.add(tf.keras.layers.Dense(10, activation='relu'))\n",
        "model.add(tf.keras.layers.Dense(10, activation='relu'))\n",
        "model.add(tf.keras.layers.Dense(10, activation='relu'))\n",
        "model.add(tf.keras.layers.Dense(10, activation='relu'))\n",
        "model.add(tf.keras.layers.Dense(10, activation='relu'))\n",
        "model.add(tf.keras.layers.Dense(10, activation='relu'))\n",
        "model.add(tf.keras.layers.Dense(1, activation='sigmoid'))"
      ],
      "metadata": {
        "id": "UNupCKvQG2It"
      },
      "execution_count": 30,
      "outputs": []
    },
    {
      "cell_type": "code",
      "source": [
        "Loss_function  = 'binary_crossentropy'\n",
        "Optimizer = 'adam'\n",
        "Metrics = 'accuracy'\n",
        "\n",
        "model.compile(\n",
        "    loss = Loss_function,\n",
        "    optimizer = Optimizer,\n",
        "    metrics = Metrics\n",
        ")"
      ],
      "metadata": {
        "id": "Bo52IAFWG3se"
      },
      "execution_count": 31,
      "outputs": []
    },
    {
      "cell_type": "code",
      "source": [
        "old_weights = model.get_weights()[0]"
      ],
      "metadata": {
        "id": "igCAuJXmHLlJ"
      },
      "execution_count": 32,
      "outputs": []
    },
    {
      "cell_type": "code",
      "source": [
        "model.fit(X_train,y_train,validation_data = (X_valid,y_valid),epochs = 50)"
      ],
      "metadata": {
        "colab": {
          "base_uri": "https://localhost:8080/"
        },
        "id": "Y5TCEXrmHOpI",
        "outputId": "e089c616-695f-4f13-da57-33269ec68ac1"
      },
      "execution_count": 33,
      "outputs": [
        {
          "output_type": "stream",
          "name": "stdout",
          "text": [
            "Epoch 1/50\n",
            "5/5 [==============================] - 4s 84ms/step - loss: 0.6865 - accuracy: 0.7929 - val_loss: 0.6806 - val_accuracy: 0.8723\n",
            "Epoch 2/50\n",
            "5/5 [==============================] - 0s 19ms/step - loss: 0.6800 - accuracy: 0.8214 - val_loss: 0.6713 - val_accuracy: 0.8298\n",
            "Epoch 3/50\n",
            "5/5 [==============================] - 0s 22ms/step - loss: 0.6727 - accuracy: 0.8143 - val_loss: 0.6597 - val_accuracy: 0.8511\n",
            "Epoch 4/50\n",
            "5/5 [==============================] - 0s 22ms/step - loss: 0.6623 - accuracy: 0.8357 - val_loss: 0.6463 - val_accuracy: 0.8723\n",
            "Epoch 5/50\n",
            "5/5 [==============================] - 0s 18ms/step - loss: 0.6488 - accuracy: 0.8571 - val_loss: 0.6273 - val_accuracy: 0.8723\n",
            "Epoch 6/50\n",
            "5/5 [==============================] - 0s 21ms/step - loss: 0.6323 - accuracy: 0.8786 - val_loss: 0.6028 - val_accuracy: 0.8723\n",
            "Epoch 7/50\n",
            "5/5 [==============================] - 0s 21ms/step - loss: 0.6112 - accuracy: 0.8857 - val_loss: 0.5739 - val_accuracy: 0.8936\n",
            "Epoch 8/50\n",
            "5/5 [==============================] - 0s 20ms/step - loss: 0.5867 - accuracy: 0.8857 - val_loss: 0.5399 - val_accuracy: 0.8723\n",
            "Epoch 9/50\n",
            "5/5 [==============================] - 0s 19ms/step - loss: 0.5575 - accuracy: 0.8929 - val_loss: 0.5038 - val_accuracy: 0.8936\n",
            "Epoch 10/50\n",
            "5/5 [==============================] - 0s 20ms/step - loss: 0.5270 - accuracy: 0.8929 - val_loss: 0.4675 - val_accuracy: 0.8936\n",
            "Epoch 11/50\n",
            "5/5 [==============================] - 0s 17ms/step - loss: 0.4961 - accuracy: 0.9000 - val_loss: 0.4372 - val_accuracy: 0.8936\n",
            "Epoch 12/50\n",
            "5/5 [==============================] - 0s 18ms/step - loss: 0.4722 - accuracy: 0.9000 - val_loss: 0.4151 - val_accuracy: 0.9149\n",
            "Epoch 13/50\n",
            "5/5 [==============================] - 0s 22ms/step - loss: 0.4504 - accuracy: 0.9071 - val_loss: 0.3987 - val_accuracy: 0.8936\n",
            "Epoch 14/50\n",
            "5/5 [==============================] - 0s 20ms/step - loss: 0.4330 - accuracy: 0.9071 - val_loss: 0.3827 - val_accuracy: 0.9149\n",
            "Epoch 15/50\n",
            "5/5 [==============================] - 0s 22ms/step - loss: 0.4150 - accuracy: 0.9071 - val_loss: 0.3651 - val_accuracy: 0.9149\n",
            "Epoch 16/50\n",
            "5/5 [==============================] - 0s 20ms/step - loss: 0.3967 - accuracy: 0.9071 - val_loss: 0.3427 - val_accuracy: 0.9149\n",
            "Epoch 17/50\n",
            "5/5 [==============================] - 0s 19ms/step - loss: 0.3733 - accuracy: 0.9071 - val_loss: 0.3148 - val_accuracy: 0.9149\n",
            "Epoch 18/50\n",
            "5/5 [==============================] - 0s 19ms/step - loss: 0.3453 - accuracy: 0.9214 - val_loss: 0.2858 - val_accuracy: 0.9362\n",
            "Epoch 19/50\n",
            "5/5 [==============================] - 0s 21ms/step - loss: 0.3137 - accuracy: 0.9286 - val_loss: 0.2508 - val_accuracy: 0.9787\n",
            "Epoch 20/50\n",
            "5/5 [==============================] - 0s 21ms/step - loss: 0.2803 - accuracy: 0.9286 - val_loss: 0.2190 - val_accuracy: 0.9787\n",
            "Epoch 21/50\n",
            "5/5 [==============================] - 0s 19ms/step - loss: 0.2437 - accuracy: 0.9286 - val_loss: 0.1827 - val_accuracy: 0.9787\n",
            "Epoch 22/50\n",
            "5/5 [==============================] - 0s 21ms/step - loss: 0.2032 - accuracy: 0.9571 - val_loss: 0.1466 - val_accuracy: 0.9787\n",
            "Epoch 23/50\n",
            "5/5 [==============================] - 0s 16ms/step - loss: 0.1718 - accuracy: 0.9643 - val_loss: 0.1104 - val_accuracy: 0.9787\n",
            "Epoch 24/50\n",
            "5/5 [==============================] - 0s 13ms/step - loss: 0.1306 - accuracy: 0.9786 - val_loss: 0.0888 - val_accuracy: 0.9787\n",
            "Epoch 25/50\n",
            "5/5 [==============================] - 0s 13ms/step - loss: 0.0995 - accuracy: 0.9857 - val_loss: 0.0556 - val_accuracy: 1.0000\n",
            "Epoch 26/50\n",
            "5/5 [==============================] - 0s 12ms/step - loss: 0.0732 - accuracy: 0.9929 - val_loss: 0.0418 - val_accuracy: 1.0000\n",
            "Epoch 27/50\n",
            "5/5 [==============================] - 0s 16ms/step - loss: 0.0582 - accuracy: 0.9929 - val_loss: 0.0366 - val_accuracy: 1.0000\n",
            "Epoch 28/50\n",
            "5/5 [==============================] - 0s 12ms/step - loss: 0.0369 - accuracy: 1.0000 - val_loss: 0.0231 - val_accuracy: 1.0000\n",
            "Epoch 29/50\n",
            "5/5 [==============================] - 0s 13ms/step - loss: 0.0271 - accuracy: 1.0000 - val_loss: 0.0174 - val_accuracy: 1.0000\n",
            "Epoch 30/50\n",
            "5/5 [==============================] - 0s 12ms/step - loss: 0.0186 - accuracy: 1.0000 - val_loss: 0.0145 - val_accuracy: 1.0000\n",
            "Epoch 31/50\n",
            "5/5 [==============================] - 0s 12ms/step - loss: 0.0150 - accuracy: 1.0000 - val_loss: 0.0133 - val_accuracy: 1.0000\n",
            "Epoch 32/50\n",
            "5/5 [==============================] - 0s 16ms/step - loss: 0.0119 - accuracy: 1.0000 - val_loss: 0.0082 - val_accuracy: 1.0000\n",
            "Epoch 33/50\n",
            "5/5 [==============================] - 0s 16ms/step - loss: 0.0090 - accuracy: 1.0000 - val_loss: 0.0061 - val_accuracy: 1.0000\n",
            "Epoch 34/50\n",
            "5/5 [==============================] - 0s 17ms/step - loss: 0.0075 - accuracy: 1.0000 - val_loss: 0.0050 - val_accuracy: 1.0000\n",
            "Epoch 35/50\n",
            "5/5 [==============================] - 0s 16ms/step - loss: 0.0061 - accuracy: 1.0000 - val_loss: 0.0046 - val_accuracy: 1.0000\n",
            "Epoch 36/50\n",
            "5/5 [==============================] - 0s 12ms/step - loss: 0.0050 - accuracy: 1.0000 - val_loss: 0.0042 - val_accuracy: 1.0000\n",
            "Epoch 37/50\n",
            "5/5 [==============================] - 0s 12ms/step - loss: 0.0044 - accuracy: 1.0000 - val_loss: 0.0035 - val_accuracy: 1.0000\n",
            "Epoch 38/50\n",
            "5/5 [==============================] - 0s 16ms/step - loss: 0.0037 - accuracy: 1.0000 - val_loss: 0.0029 - val_accuracy: 1.0000\n",
            "Epoch 39/50\n",
            "5/5 [==============================] - 0s 16ms/step - loss: 0.0033 - accuracy: 1.0000 - val_loss: 0.0024 - val_accuracy: 1.0000\n",
            "Epoch 40/50\n",
            "5/5 [==============================] - 0s 15ms/step - loss: 0.0029 - accuracy: 1.0000 - val_loss: 0.0022 - val_accuracy: 1.0000\n",
            "Epoch 41/50\n",
            "5/5 [==============================] - 0s 13ms/step - loss: 0.0026 - accuracy: 1.0000 - val_loss: 0.0021 - val_accuracy: 1.0000\n",
            "Epoch 42/50\n",
            "5/5 [==============================] - 0s 12ms/step - loss: 0.0024 - accuracy: 1.0000 - val_loss: 0.0019 - val_accuracy: 1.0000\n",
            "Epoch 43/50\n",
            "5/5 [==============================] - 0s 12ms/step - loss: 0.0022 - accuracy: 1.0000 - val_loss: 0.0017 - val_accuracy: 1.0000\n",
            "Epoch 44/50\n",
            "5/5 [==============================] - 0s 16ms/step - loss: 0.0020 - accuracy: 1.0000 - val_loss: 0.0016 - val_accuracy: 1.0000\n",
            "Epoch 45/50\n",
            "5/5 [==============================] - 0s 17ms/step - loss: 0.0018 - accuracy: 1.0000 - val_loss: 0.0015 - val_accuracy: 1.0000\n",
            "Epoch 46/50\n",
            "5/5 [==============================] - 0s 16ms/step - loss: 0.0017 - accuracy: 1.0000 - val_loss: 0.0014 - val_accuracy: 1.0000\n",
            "Epoch 47/50\n",
            "5/5 [==============================] - 0s 13ms/step - loss: 0.0016 - accuracy: 1.0000 - val_loss: 0.0013 - val_accuracy: 1.0000\n",
            "Epoch 48/50\n",
            "5/5 [==============================] - 0s 13ms/step - loss: 0.0015 - accuracy: 1.0000 - val_loss: 0.0012 - val_accuracy: 1.0000\n",
            "Epoch 49/50\n",
            "5/5 [==============================] - 0s 17ms/step - loss: 0.0014 - accuracy: 1.0000 - val_loss: 0.0011 - val_accuracy: 1.0000\n",
            "Epoch 50/50\n",
            "5/5 [==============================] - 0s 16ms/step - loss: 0.0013 - accuracy: 1.0000 - val_loss: 0.0010 - val_accuracy: 1.0000\n"
          ]
        },
        {
          "output_type": "execute_result",
          "data": {
            "text/plain": [
              "<keras.src.callbacks.History at 0x7c8f2da30940>"
            ]
          },
          "metadata": {},
          "execution_count": 33
        }
      ]
    },
    {
      "cell_type": "code",
      "source": [
        "new_weights = model.get_weights()[0]"
      ],
      "metadata": {
        "id": "qtXV0V3aHSS_"
      },
      "execution_count": 34,
      "outputs": []
    },
    {
      "cell_type": "code",
      "source": [
        "percent_change"
      ],
      "metadata": {
        "colab": {
          "base_uri": "https://localhost:8080/"
        },
        "id": "9dDaBokJHWB_",
        "outputId": "8a2d7c12-24f9-4585-cac7-1472b7db5183"
      },
      "execution_count": 35,
      "outputs": [
        {
          "output_type": "execute_result",
          "data": {
            "text/plain": [
              "array([[31.575989  ,  1.6206694 ,  3.3423636 , 21.701334  , 33.051594  ,\n",
              "         3.828426  ,  2.055956  ,  1.2129405 ,  3.1000962 ,  0.76101726],\n",
              "       [ 5.4891305 ,  1.1011333 ,  9.686303  ,  5.6242886 ,  5.6948786 ,\n",
              "        10.826454  ,  9.379657  ,  2.9388452 ,  1.8422577 ,  2.2892263 ]],\n",
              "      dtype=float32)"
            ]
          },
          "metadata": {},
          "execution_count": 35
        }
      ]
    },
    {
      "cell_type": "code",
      "source": [
        "from mlxtend.plotting import plot_decision_regions\n",
        "plot_decision_regions(X_train, y_train.astype('int'), clf=model, legend=2)"
      ],
      "metadata": {
        "colab": {
          "base_uri": "https://localhost:8080/",
          "height": 465
        },
        "id": "FiJn9p7CHapV",
        "outputId": "3a792275-6910-4d7a-c377-a129ead82435"
      },
      "execution_count": 36,
      "outputs": [
        {
          "output_type": "stream",
          "name": "stdout",
          "text": [
            "9600/9600 [==============================] - 23s 2ms/step\n"
          ]
        },
        {
          "output_type": "execute_result",
          "data": {
            "text/plain": [
              "<Axes: >"
            ]
          },
          "metadata": {},
          "execution_count": 36
        },
        {
          "output_type": "display_data",
          "data": {
            "text/plain": [
              "<Figure size 640x480 with 1 Axes>"
            ],
            "image/png": "[encoded data removed]"
          },
          "metadata": {}
        }
      ]
    },
    {
      "cell_type": "markdown",
      "source": [
        "3rd. Weight Initialization"
      ],
      "metadata": {
        "id": "xQaNMlCOJx31"
      }
    },
    {
      "cell_type": "code",
      "source": [
        "del model"
      ],
      "metadata": {
        "id": "FmpSVgzRJjsU"
      },
      "execution_count": 37,
      "outputs": []
    },
    {
      "cell_type": "code",
      "source": [
        "model = tf.keras.models.Sequential()\n",
        "\n",
        "model.add(tf.keras.layers.Dense(10, activation='relu', input_dim=2,kernel_initializer='he_normal'))\n",
        "model.add(tf.keras.layers.Dense(10, activation='relu',kernel_initializer='he_normal'))\n",
        "model.add(tf.keras.layers.Dense(10, activation='relu',kernel_initializer='he_normal'))\n",
        "model.add(tf.keras.layers.Dense(10, activation='relu',kernel_initializer='he_normal'))\n",
        "model.add(tf.keras.layers.Dense(1, activation='sigmoid'))"
      ],
      "metadata": {
        "id": "ag1b3ZBXKALA"
      },
      "execution_count": 38,
      "outputs": []
    },
    {
      "cell_type": "code",
      "source": [
        "model.compile(loss='binary_crossentropy', optimizer= 'adam',metrics=['accuracy'])"
      ],
      "metadata": {
        "id": "t2-6FROCKDzv"
      },
      "execution_count": 39,
      "outputs": []
    },
    {
      "cell_type": "code",
      "source": [
        "old_weights = model.get_weights()[0]"
      ],
      "metadata": {
        "id": "O6URmGlwKpgL"
      },
      "execution_count": 40,
      "outputs": []
    },
    {
      "cell_type": "code",
      "source": [
        "model.fit(X_train, y_train,validation_data = (X_valid,y_valid), epochs = 50)"
      ],
      "metadata": {
        "colab": {
          "base_uri": "https://localhost:8080/"
        },
        "id": "-59O6ldfKyiD",
        "outputId": "9c39f724-f1c0-49a0-c3d5-9d03ed112c33"
      },
      "execution_count": 41,
      "outputs": [
        {
          "output_type": "stream",
          "name": "stdout",
          "text": [
            "Epoch 1/50\n",
            "5/5 [==============================] - 1s 47ms/step - loss: 0.7522 - accuracy: 0.4929 - val_loss: 0.6988 - val_accuracy: 0.5957\n",
            "Epoch 2/50\n",
            "5/5 [==============================] - 0s 11ms/step - loss: 0.7038 - accuracy: 0.5000 - val_loss: 0.6587 - val_accuracy: 0.5957\n",
            "Epoch 3/50\n",
            "5/5 [==============================] - 0s 11ms/step - loss: 0.6622 - accuracy: 0.5143 - val_loss: 0.6223 - val_accuracy: 0.6383\n",
            "Epoch 4/50\n",
            "5/5 [==============================] - 0s 11ms/step - loss: 0.6253 - accuracy: 0.6571 - val_loss: 0.5902 - val_accuracy: 0.8723\n",
            "Epoch 5/50\n",
            "5/5 [==============================] - 0s 17ms/step - loss: 0.5964 - accuracy: 0.8071 - val_loss: 0.5635 - val_accuracy: 0.8723\n",
            "Epoch 6/50\n",
            "5/5 [==============================] - 0s 14ms/step - loss: 0.5747 - accuracy: 0.8143 - val_loss: 0.5414 - val_accuracy: 0.8723\n",
            "Epoch 7/50\n",
            "5/5 [==============================] - 0s 15ms/step - loss: 0.5556 - accuracy: 0.8143 - val_loss: 0.5207 - val_accuracy: 0.8723\n",
            "Epoch 8/50\n",
            "5/5 [==============================] - 0s 16ms/step - loss: 0.5354 - accuracy: 0.8143 - val_loss: 0.4997 - val_accuracy: 0.8723\n",
            "Epoch 9/50\n",
            "5/5 [==============================] - 0s 14ms/step - loss: 0.5149 - accuracy: 0.8143 - val_loss: 0.4799 - val_accuracy: 0.8723\n",
            "Epoch 10/50\n",
            "5/5 [==============================] - 0s 11ms/step - loss: 0.4958 - accuracy: 0.8143 - val_loss: 0.4620 - val_accuracy: 0.8723\n",
            "Epoch 11/50\n",
            "5/5 [==============================] - 0s 15ms/step - loss: 0.4785 - accuracy: 0.8143 - val_loss: 0.4423 - val_accuracy: 0.8723\n",
            "Epoch 12/50\n",
            "5/5 [==============================] - 0s 11ms/step - loss: 0.4602 - accuracy: 0.8143 - val_loss: 0.4224 - val_accuracy: 0.8723\n",
            "Epoch 13/50\n",
            "5/5 [==============================] - 0s 11ms/step - loss: 0.4411 - accuracy: 0.8214 - val_loss: 0.4048 - val_accuracy: 0.8723\n",
            "Epoch 14/50\n",
            "5/5 [==============================] - 0s 15ms/step - loss: 0.4245 - accuracy: 0.8214 - val_loss: 0.3876 - val_accuracy: 0.8723\n",
            "Epoch 15/50\n",
            "5/5 [==============================] - 0s 11ms/step - loss: 0.4070 - accuracy: 0.8357 - val_loss: 0.3720 - val_accuracy: 0.8723\n",
            "Epoch 16/50\n",
            "5/5 [==============================] - 0s 11ms/step - loss: 0.3925 - accuracy: 0.8429 - val_loss: 0.3570 - val_accuracy: 0.8723\n",
            "Epoch 17/50\n",
            "5/5 [==============================] - 0s 14ms/step - loss: 0.3768 - accuracy: 0.8429 - val_loss: 0.3426 - val_accuracy: 0.8723\n",
            "Epoch 18/50\n",
            "5/5 [==============================] - 0s 15ms/step - loss: 0.3628 - accuracy: 0.8500 - val_loss: 0.3301 - val_accuracy: 0.8723\n",
            "Epoch 19/50\n",
            "5/5 [==============================] - 0s 19ms/step - loss: 0.3497 - accuracy: 0.8500 - val_loss: 0.3191 - val_accuracy: 0.8723\n",
            "Epoch 20/50\n",
            "5/5 [==============================] - 0s 19ms/step - loss: 0.3395 - accuracy: 0.8571 - val_loss: 0.3097 - val_accuracy: 0.8723\n",
            "Epoch 21/50\n",
            "5/5 [==============================] - 0s 19ms/step - loss: 0.3297 - accuracy: 0.8571 - val_loss: 0.3015 - val_accuracy: 0.8723\n",
            "Epoch 22/50\n",
            "5/5 [==============================] - 0s 16ms/step - loss: 0.3226 - accuracy: 0.8643 - val_loss: 0.2944 - val_accuracy: 0.8723\n",
            "Epoch 23/50\n",
            "5/5 [==============================] - 0s 20ms/step - loss: 0.3157 - accuracy: 0.8643 - val_loss: 0.2884 - val_accuracy: 0.8723\n",
            "Epoch 24/50\n",
            "5/5 [==============================] - 0s 18ms/step - loss: 0.3097 - accuracy: 0.8714 - val_loss: 0.2833 - val_accuracy: 0.8723\n",
            "Epoch 25/50\n",
            "5/5 [==============================] - 0s 18ms/step - loss: 0.3049 - accuracy: 0.8714 - val_loss: 0.2786 - val_accuracy: 0.8723\n",
            "Epoch 26/50\n",
            "5/5 [==============================] - 0s 15ms/step - loss: 0.3003 - accuracy: 0.8714 - val_loss: 0.2749 - val_accuracy: 0.8723\n",
            "Epoch 27/50\n",
            "5/5 [==============================] - 0s 19ms/step - loss: 0.2963 - accuracy: 0.8714 - val_loss: 0.2709 - val_accuracy: 0.8723\n",
            "Epoch 28/50\n",
            "5/5 [==============================] - 0s 19ms/step - loss: 0.2928 - accuracy: 0.8714 - val_loss: 0.2668 - val_accuracy: 0.8723\n",
            "Epoch 29/50\n",
            "5/5 [==============================] - 0s 20ms/step - loss: 0.2892 - accuracy: 0.8714 - val_loss: 0.2636 - val_accuracy: 0.8723\n",
            "Epoch 30/50\n",
            "5/5 [==============================] - 0s 18ms/step - loss: 0.2860 - accuracy: 0.8786 - val_loss: 0.2604 - val_accuracy: 0.8723\n",
            "Epoch 31/50\n",
            "5/5 [==============================] - 0s 15ms/step - loss: 0.2830 - accuracy: 0.8786 - val_loss: 0.2573 - val_accuracy: 0.8723\n",
            "Epoch 32/50\n",
            "5/5 [==============================] - 0s 18ms/step - loss: 0.2799 - accuracy: 0.8786 - val_loss: 0.2544 - val_accuracy: 0.8723\n",
            "Epoch 33/50\n",
            "5/5 [==============================] - 0s 15ms/step - loss: 0.2769 - accuracy: 0.8786 - val_loss: 0.2516 - val_accuracy: 0.8723\n",
            "Epoch 34/50\n",
            "5/5 [==============================] - 0s 16ms/step - loss: 0.2746 - accuracy: 0.8786 - val_loss: 0.2490 - val_accuracy: 0.8723\n",
            "Epoch 35/50\n",
            "5/5 [==============================] - 0s 17ms/step - loss: 0.2720 - accuracy: 0.8786 - val_loss: 0.2465 - val_accuracy: 0.8723\n",
            "Epoch 36/50\n",
            "5/5 [==============================] - 0s 15ms/step - loss: 0.2696 - accuracy: 0.8786 - val_loss: 0.2442 - val_accuracy: 0.8723\n",
            "Epoch 37/50\n",
            "5/5 [==============================] - 0s 19ms/step - loss: 0.2675 - accuracy: 0.8786 - val_loss: 0.2419 - val_accuracy: 0.8723\n",
            "Epoch 38/50\n",
            "5/5 [==============================] - 0s 18ms/step - loss: 0.2650 - accuracy: 0.8857 - val_loss: 0.2397 - val_accuracy: 0.8723\n",
            "Epoch 39/50\n",
            "5/5 [==============================] - 0s 19ms/step - loss: 0.2622 - accuracy: 0.8857 - val_loss: 0.2372 - val_accuracy: 0.8723\n",
            "Epoch 40/50\n",
            "5/5 [==============================] - 0s 15ms/step - loss: 0.2596 - accuracy: 0.8929 - val_loss: 0.2345 - val_accuracy: 0.8936\n",
            "Epoch 41/50\n",
            "5/5 [==============================] - 0s 15ms/step - loss: 0.2570 - accuracy: 0.8929 - val_loss: 0.2318 - val_accuracy: 0.8936\n",
            "Epoch 42/50\n",
            "5/5 [==============================] - 0s 19ms/step - loss: 0.2542 - accuracy: 0.8929 - val_loss: 0.2290 - val_accuracy: 0.8936\n",
            "Epoch 43/50\n",
            "5/5 [==============================] - 0s 19ms/step - loss: 0.2514 - accuracy: 0.8929 - val_loss: 0.2265 - val_accuracy: 0.8936\n",
            "Epoch 44/50\n",
            "5/5 [==============================] - 0s 19ms/step - loss: 0.2490 - accuracy: 0.8929 - val_loss: 0.2243 - val_accuracy: 0.8936\n",
            "Epoch 45/50\n",
            "5/5 [==============================] - 0s 15ms/step - loss: 0.2469 - accuracy: 0.8929 - val_loss: 0.2220 - val_accuracy: 0.8936\n",
            "Epoch 46/50\n",
            "5/5 [==============================] - 0s 19ms/step - loss: 0.2448 - accuracy: 0.8929 - val_loss: 0.2197 - val_accuracy: 0.8936\n",
            "Epoch 47/50\n",
            "5/5 [==============================] - 0s 19ms/step - loss: 0.2425 - accuracy: 0.8929 - val_loss: 0.2173 - val_accuracy: 0.8936\n",
            "Epoch 48/50\n",
            "5/5 [==============================] - 0s 15ms/step - loss: 0.2405 - accuracy: 0.8929 - val_loss: 0.2148 - val_accuracy: 0.8936\n",
            "Epoch 49/50\n",
            "5/5 [==============================] - 0s 18ms/step - loss: 0.2380 - accuracy: 0.8929 - val_loss: 0.2124 - val_accuracy: 0.9149\n",
            "Epoch 50/50\n",
            "5/5 [==============================] - 0s 17ms/step - loss: 0.2362 - accuracy: 0.8929 - val_loss: 0.2098 - val_accuracy: 0.9149\n"
          ]
        },
        {
          "output_type": "execute_result",
          "data": {
            "text/plain": [
              "<keras.src.callbacks.History at 0x7c8f2c330280>"
            ]
          },
          "metadata": {},
          "execution_count": 41
        }
      ]
    },
    {
      "cell_type": "code",
      "source": [
        "new_weights = model.get_weights()[0]"
      ],
      "metadata": {
        "id": "Uvq3XhP2K_ah"
      },
      "execution_count": 42,
      "outputs": []
    },
    {
      "cell_type": "code",
      "source": [
        "percent_change"
      ],
      "metadata": {
        "colab": {
          "base_uri": "https://localhost:8080/"
        },
        "id": "s_f4QBljLBUF",
        "outputId": "613ebaaa-9390-47c4-96fa-55160cfb33d7"
      },
      "execution_count": 43,
      "outputs": [
        {
          "output_type": "execute_result",
          "data": {
            "text/plain": [
              "array([[31.575989  ,  1.6206694 ,  3.3423636 , 21.701334  , 33.051594  ,\n",
              "         3.828426  ,  2.055956  ,  1.2129405 ,  3.1000962 ,  0.76101726],\n",
              "       [ 5.4891305 ,  1.1011333 ,  9.686303  ,  5.6242886 ,  5.6948786 ,\n",
              "        10.826454  ,  9.379657  ,  2.9388452 ,  1.8422577 ,  2.2892263 ]],\n",
              "      dtype=float32)"
            ]
          },
          "metadata": {},
          "execution_count": 43
        }
      ]
    },
    {
      "cell_type": "code",
      "source": [
        "from mlxtend.plotting import plot_decision_regions\n",
        "plot_decision_regions(X_train, y_train.astype('int'), clf=model, legend=2)"
      ],
      "metadata": {
        "colab": {
          "base_uri": "https://localhost:8080/",
          "height": 465
        },
        "id": "FP6BiDH_LGIi",
        "outputId": "2aca95ec-952f-413a-9316-39a59f0c7517"
      },
      "execution_count": 44,
      "outputs": [
        {
          "output_type": "stream",
          "name": "stdout",
          "text": [
            "9600/9600 [==============================] - 19s 2ms/step\n"
          ]
        },
        {
          "output_type": "execute_result",
          "data": {
            "text/plain": [
              "<Axes: >"
            ]
          },
          "metadata": {},
          "execution_count": 44
        },
        {
          "output_type": "display_data",
          "data": {
            "text/plain": [
              "<Figure size 640x480 with 1 Axes>"
            ],
            "image/png": "[encoded data removed]"
          },
          "metadata": {}
        }
      ]
    },
    {
      "cell_type": "markdown",
      "source": [
        "4th. Batch Normalization"
      ],
      "metadata": {
        "id": "3fl7v5CnMQtA"
      }
    },
    {
      "cell_type": "code",
      "source": [
        "del model"
      ],
      "metadata": {
        "id": "IutqXQXYMQQy"
      },
      "execution_count": 45,
      "outputs": []
    },
    {
      "cell_type": "code",
      "source": [
        "model = tf.keras.models.Sequential()\n",
        "\n",
        "model.add(tf.keras.layers.Dense(10, activation='relu', input_dim=2,kernel_initializer='he_normal'))\n",
        "tf.keras.layers.BatchNormalization()\n",
        "model.add(tf.keras.layers.Dense(10, activation='relu',kernel_initializer='he_normal'))\n",
        "tf.keras.layers.BatchNormalization()\n",
        "model.add(tf.keras.layers.Dense(10, activation='relu',kernel_initializer='he_normal'))\n",
        "tf.keras.layers.BatchNormalization()\n",
        "model.add(tf.keras.layers.Dense(10, activation='relu',kernel_initializer='he_normal'))\n",
        "tf.keras.layers.BatchNormalization()\n",
        "model.add(tf.keras.layers.Dense(1, activation='sigmoid'))"
      ],
      "metadata": {
        "id": "51p8pfldM_D7"
      },
      "execution_count": 46,
      "outputs": []
    },
    {
      "cell_type": "code",
      "source": [
        "model.compile(loss='binary_crossentropy', optimizer= 'adam',metrics=['accuracy'])"
      ],
      "metadata": {
        "id": "-YUNqYqyM_GV"
      },
      "execution_count": 47,
      "outputs": []
    },
    {
      "cell_type": "code",
      "source": [
        "old_weights = model.get_weights()[0]"
      ],
      "metadata": {
        "id": "JDPuzKmwLH5-"
      },
      "execution_count": 48,
      "outputs": []
    },
    {
      "cell_type": "code",
      "source": [
        "model.fit(X_train, y_train,validation_data = (X_valid,y_valid), epochs = 50)"
      ],
      "metadata": {
        "colab": {
          "base_uri": "https://localhost:8080/"
        },
        "id": "W6ZsK1_6NTKv",
        "outputId": "c597a339-1fdf-4e07-baf6-a2bd525568cd"
      },
      "execution_count": 49,
      "outputs": [
        {
          "output_type": "stream",
          "name": "stdout",
          "text": [
            "Epoch 1/50\n",
            "5/5 [==============================] - 2s 52ms/step - loss: 0.7487 - accuracy: 0.5357 - val_loss: 0.7532 - val_accuracy: 0.4255\n",
            "Epoch 2/50\n",
            "5/5 [==============================] - 0s 16ms/step - loss: 0.7124 - accuracy: 0.5357 - val_loss: 0.7129 - val_accuracy: 0.4043\n",
            "Epoch 3/50\n",
            "5/5 [==============================] - 0s 10ms/step - loss: 0.6797 - accuracy: 0.5286 - val_loss: 0.6783 - val_accuracy: 0.4894\n",
            "Epoch 4/50\n",
            "5/5 [==============================] - 0s 14ms/step - loss: 0.6506 - accuracy: 0.5857 - val_loss: 0.6480 - val_accuracy: 0.5319\n",
            "Epoch 5/50\n",
            "5/5 [==============================] - 0s 14ms/step - loss: 0.6261 - accuracy: 0.6929 - val_loss: 0.6197 - val_accuracy: 0.7234\n",
            "Epoch 6/50\n",
            "5/5 [==============================] - 0s 11ms/step - loss: 0.6005 - accuracy: 0.7929 - val_loss: 0.5947 - val_accuracy: 0.7660\n",
            "Epoch 7/50\n",
            "5/5 [==============================] - 0s 10ms/step - loss: 0.5794 - accuracy: 0.7786 - val_loss: 0.5716 - val_accuracy: 0.7234\n",
            "Epoch 8/50\n",
            "5/5 [==============================] - 0s 14ms/step - loss: 0.5584 - accuracy: 0.7786 - val_loss: 0.5507 - val_accuracy: 0.7447\n",
            "Epoch 9/50\n",
            "5/5 [==============================] - 0s 14ms/step - loss: 0.5387 - accuracy: 0.8000 - val_loss: 0.5315 - val_accuracy: 0.7660\n",
            "Epoch 10/50\n",
            "5/5 [==============================] - 0s 11ms/step - loss: 0.5205 - accuracy: 0.8000 - val_loss: 0.5131 - val_accuracy: 0.7660\n",
            "Epoch 11/50\n",
            "5/5 [==============================] - 0s 15ms/step - loss: 0.5032 - accuracy: 0.8071 - val_loss: 0.4954 - val_accuracy: 0.7872\n",
            "Epoch 12/50\n",
            "5/5 [==============================] - 0s 14ms/step - loss: 0.4860 - accuracy: 0.8143 - val_loss: 0.4795 - val_accuracy: 0.7872\n",
            "Epoch 13/50\n",
            "5/5 [==============================] - 0s 11ms/step - loss: 0.4718 - accuracy: 0.8143 - val_loss: 0.4646 - val_accuracy: 0.7872\n",
            "Epoch 14/50\n",
            "5/5 [==============================] - 0s 11ms/step - loss: 0.4576 - accuracy: 0.8143 - val_loss: 0.4507 - val_accuracy: 0.7872\n",
            "Epoch 15/50\n",
            "5/5 [==============================] - 0s 13ms/step - loss: 0.4445 - accuracy: 0.8214 - val_loss: 0.4383 - val_accuracy: 0.8085\n",
            "Epoch 16/50\n",
            "5/5 [==============================] - 0s 14ms/step - loss: 0.4325 - accuracy: 0.8286 - val_loss: 0.4264 - val_accuracy: 0.8085\n",
            "Epoch 17/50\n",
            "5/5 [==============================] - 0s 14ms/step - loss: 0.4205 - accuracy: 0.8286 - val_loss: 0.4153 - val_accuracy: 0.8085\n",
            "Epoch 18/50\n",
            "5/5 [==============================] - 0s 11ms/step - loss: 0.4098 - accuracy: 0.8286 - val_loss: 0.4049 - val_accuracy: 0.8298\n",
            "Epoch 19/50\n",
            "5/5 [==============================] - 0s 11ms/step - loss: 0.3996 - accuracy: 0.8357 - val_loss: 0.3946 - val_accuracy: 0.8298\n",
            "Epoch 20/50\n",
            "5/5 [==============================] - 0s 15ms/step - loss: 0.3899 - accuracy: 0.8429 - val_loss: 0.3853 - val_accuracy: 0.8511\n",
            "Epoch 21/50\n",
            "5/5 [==============================] - 0s 15ms/step - loss: 0.3798 - accuracy: 0.8429 - val_loss: 0.3770 - val_accuracy: 0.8511\n",
            "Epoch 22/50\n",
            "5/5 [==============================] - 0s 11ms/step - loss: 0.3720 - accuracy: 0.8500 - val_loss: 0.3692 - val_accuracy: 0.8511\n",
            "Epoch 23/50\n",
            "5/5 [==============================] - 0s 15ms/step - loss: 0.3638 - accuracy: 0.8500 - val_loss: 0.3620 - val_accuracy: 0.8511\n",
            "Epoch 24/50\n",
            "5/5 [==============================] - 0s 10ms/step - loss: 0.3564 - accuracy: 0.8571 - val_loss: 0.3551 - val_accuracy: 0.8511\n",
            "Epoch 25/50\n",
            "5/5 [==============================] - 0s 10ms/step - loss: 0.3499 - accuracy: 0.8643 - val_loss: 0.3491 - val_accuracy: 0.8511\n",
            "Epoch 26/50\n",
            "5/5 [==============================] - 0s 15ms/step - loss: 0.3440 - accuracy: 0.8643 - val_loss: 0.3435 - val_accuracy: 0.8511\n",
            "Epoch 27/50\n",
            "5/5 [==============================] - 0s 16ms/step - loss: 0.3385 - accuracy: 0.8643 - val_loss: 0.3379 - val_accuracy: 0.8511\n",
            "Epoch 28/50\n",
            "5/5 [==============================] - 0s 14ms/step - loss: 0.3332 - accuracy: 0.8643 - val_loss: 0.3327 - val_accuracy: 0.8511\n",
            "Epoch 29/50\n",
            "5/5 [==============================] - 0s 14ms/step - loss: 0.3285 - accuracy: 0.8643 - val_loss: 0.3277 - val_accuracy: 0.8511\n",
            "Epoch 30/50\n",
            "5/5 [==============================] - 0s 10ms/step - loss: 0.3235 - accuracy: 0.8643 - val_loss: 0.3232 - val_accuracy: 0.8511\n",
            "Epoch 31/50\n",
            "5/5 [==============================] - 0s 10ms/step - loss: 0.3190 - accuracy: 0.8643 - val_loss: 0.3189 - val_accuracy: 0.8511\n",
            "Epoch 32/50\n",
            "5/5 [==============================] - 0s 16ms/step - loss: 0.3151 - accuracy: 0.8643 - val_loss: 0.3146 - val_accuracy: 0.8723\n",
            "Epoch 33/50\n",
            "5/5 [==============================] - 0s 12ms/step - loss: 0.3115 - accuracy: 0.8714 - val_loss: 0.3105 - val_accuracy: 0.8723\n",
            "Epoch 34/50\n",
            "5/5 [==============================] - 0s 14ms/step - loss: 0.3074 - accuracy: 0.8714 - val_loss: 0.3064 - val_accuracy: 0.8723\n",
            "Epoch 35/50\n",
            "5/5 [==============================] - 0s 11ms/step - loss: 0.3038 - accuracy: 0.8714 - val_loss: 0.3023 - val_accuracy: 0.8723\n",
            "Epoch 36/50\n",
            "5/5 [==============================] - 0s 11ms/step - loss: 0.2999 - accuracy: 0.8714 - val_loss: 0.2983 - val_accuracy: 0.8723\n",
            "Epoch 37/50\n",
            "5/5 [==============================] - 0s 19ms/step - loss: 0.2961 - accuracy: 0.8714 - val_loss: 0.2945 - val_accuracy: 0.8723\n",
            "Epoch 38/50\n",
            "5/5 [==============================] - 0s 18ms/step - loss: 0.2924 - accuracy: 0.8714 - val_loss: 0.2907 - val_accuracy: 0.8723\n",
            "Epoch 39/50\n",
            "5/5 [==============================] - 0s 17ms/step - loss: 0.2891 - accuracy: 0.8714 - val_loss: 0.2868 - val_accuracy: 0.8723\n",
            "Epoch 40/50\n",
            "5/5 [==============================] - 0s 20ms/step - loss: 0.2852 - accuracy: 0.8714 - val_loss: 0.2830 - val_accuracy: 0.8723\n",
            "Epoch 41/50\n",
            "5/5 [==============================] - 0s 20ms/step - loss: 0.2815 - accuracy: 0.8714 - val_loss: 0.2791 - val_accuracy: 0.8723\n",
            "Epoch 42/50\n",
            "5/5 [==============================] - 0s 12ms/step - loss: 0.2777 - accuracy: 0.8714 - val_loss: 0.2748 - val_accuracy: 0.8723\n",
            "Epoch 43/50\n",
            "5/5 [==============================] - 0s 16ms/step - loss: 0.2739 - accuracy: 0.8714 - val_loss: 0.2705 - val_accuracy: 0.8723\n",
            "Epoch 44/50\n",
            "5/5 [==============================] - 0s 15ms/step - loss: 0.2700 - accuracy: 0.8786 - val_loss: 0.2664 - val_accuracy: 0.8723\n",
            "Epoch 45/50\n",
            "5/5 [==============================] - 0s 15ms/step - loss: 0.2659 - accuracy: 0.8786 - val_loss: 0.2626 - val_accuracy: 0.8723\n",
            "Epoch 46/50\n",
            "5/5 [==============================] - 0s 12ms/step - loss: 0.2619 - accuracy: 0.8786 - val_loss: 0.2588 - val_accuracy: 0.8723\n",
            "Epoch 47/50\n",
            "5/5 [==============================] - 0s 11ms/step - loss: 0.2580 - accuracy: 0.8786 - val_loss: 0.2547 - val_accuracy: 0.8723\n",
            "Epoch 48/50\n",
            "5/5 [==============================] - 0s 16ms/step - loss: 0.2536 - accuracy: 0.8857 - val_loss: 0.2505 - val_accuracy: 0.8723\n",
            "Epoch 49/50\n",
            "5/5 [==============================] - 0s 11ms/step - loss: 0.2496 - accuracy: 0.8857 - val_loss: 0.2459 - val_accuracy: 0.8723\n",
            "Epoch 50/50\n",
            "5/5 [==============================] - 0s 10ms/step - loss: 0.2462 - accuracy: 0.8857 - val_loss: 0.2411 - val_accuracy: 0.8723\n"
          ]
        },
        {
          "output_type": "execute_result",
          "data": {
            "text/plain": [
              "<keras.src.callbacks.History at 0x7c8f2dbb05b0>"
            ]
          },
          "metadata": {},
          "execution_count": 49
        }
      ]
    },
    {
      "cell_type": "code",
      "source": [
        "new_weights = model.get_weights()[0]"
      ],
      "metadata": {
        "id": "twv-nr8tNWI6"
      },
      "execution_count": 50,
      "outputs": []
    },
    {
      "cell_type": "code",
      "source": [
        "percent_change"
      ],
      "metadata": {
        "colab": {
          "base_uri": "https://localhost:8080/"
        },
        "id": "HU2ORSdcNaPy",
        "outputId": "9301b1a5-6792-49b7-8585-723273e336ef"
      },
      "execution_count": 51,
      "outputs": [
        {
          "output_type": "execute_result",
          "data": {
            "text/plain": [
              "array([[31.575989  ,  1.6206694 ,  3.3423636 , 21.701334  , 33.051594  ,\n",
              "         3.828426  ,  2.055956  ,  1.2129405 ,  3.1000962 ,  0.76101726],\n",
              "       [ 5.4891305 ,  1.1011333 ,  9.686303  ,  5.6242886 ,  5.6948786 ,\n",
              "        10.826454  ,  9.379657  ,  2.9388452 ,  1.8422577 ,  2.2892263 ]],\n",
              "      dtype=float32)"
            ]
          },
          "metadata": {},
          "execution_count": 51
        }
      ]
    },
    {
      "cell_type": "code",
      "source": [
        "from mlxtend.plotting import plot_decision_regions\n",
        "plot_decision_regions(X_train, y_train.astype('int'), clf=model, legend=2)"
      ],
      "metadata": {
        "colab": {
          "base_uri": "https://localhost:8080/",
          "height": 465
        },
        "id": "pSGCeQOeNhiH",
        "outputId": "f2ea7092-0f2b-428c-86a3-cef68cfd9f44"
      },
      "execution_count": 52,
      "outputs": [
        {
          "output_type": "stream",
          "name": "stdout",
          "text": [
            "9600/9600 [==============================] - 19s 2ms/step\n"
          ]
        },
        {
          "output_type": "execute_result",
          "data": {
            "text/plain": [
              "<Axes: >"
            ]
          },
          "metadata": {},
          "execution_count": 52
        },
        {
          "output_type": "display_data",
          "data": {
            "text/plain": [
              "<Figure size 640x480 with 1 Axes>"
            ],
            "image/png": "[encoded data removed]"
          },
          "metadata": {}
        }
      ]
    }
  ]
}